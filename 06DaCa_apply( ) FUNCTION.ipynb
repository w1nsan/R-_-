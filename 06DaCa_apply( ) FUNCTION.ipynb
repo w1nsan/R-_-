{
 "cells": [
  {
   "cell_type": "markdown",
   "metadata": {},
   "source": [
    "# R语言中的Apply家族函数\n",
    "\n",
    "\n",
    "\n",
    "\n",
    "\n",
    "![apply](http://blog.fens.me/wp-content/uploads/2016/04/apply.png)\n",
    "\n",
    "`Apply`系列函数作为 R 语言中用于替换`for`和`while`循环的利器，在批量循环计算的过程中发挥着非常重要的作用.\n",
    "\n",
    "apply的家族函数，包括`apply`, `sapply`, `tapply`, `mapply`, `lapply`, `rapply`, `vapply`, `eapply`等\n",
    "```r\n",
    "Usage:\n",
    "apply(X, MARGIN, FUN, ...)\n",
    "\n",
    "Arguments:\n",
    "\n",
    "X: 矩阵、数据框、数组、列表\n",
    "\n",
    "MARGIN: 按行或列进行循环计算，如果是多维的还可以设置dimnames\n",
    "\n",
    "FUN: 自定义的调用函数\n",
    "\n",
    "… : 更多参数，可选\n",
    "\n",
    "```\n",
    "\n",
    "apply函数是最常用的代替`for`循环的函数。`apply`函数可以对矩阵、数据框、数组、列表（**X**），按行或列(**margin**)进行循环计算，对子元素进行迭代，并把子元素以参数传递的形式给自定义的**FUN**函数中，并以返回计算结果。"
   ]
  },
  {
   "cell_type": "markdown",
   "metadata": {},
   "source": [
    "## lapply\n",
    "\n",
    "lapply函数是一个最基础循环操作函数之一，用来对`list`、`data.frame`数据集进行循环，并返回和 X 长度同样的**list 结构**作为结果集，通过lapply的开头的第一个字母’l’就可以判断返回结果集的类型。\n",
    "\n",
    "```r\n",
    "lapply(X, FUN, ...)\n",
    "```\n",
    "If` FUN` requires additional arguments, you pass them **after**you've specified X and FUN (...).\n",
    "\n",
    "如果 FUN 定义的函数里需要规定参数，那么就将这个参数的设定放到省略号`...`的位置。"
   ]
  },
  {
   "cell_type": "code",
   "execution_count": 4,
   "metadata": {},
   "outputs": [
    {
     "name": "stdout",
     "output_type": "stream",
     "text": [
      "[1] \"numeric\"\n",
      "[1] \"character\"\n",
      "[1] \"logical\"\n"
     ]
    },
    {
     "data": {
      "text/html": [
       "<dl>\n",
       "\t<dt>$pop</dt>\n",
       "\t\t<dd>'numeric'</dd>\n",
       "\t<dt>$boroughs</dt>\n",
       "\t\t<dd>'character'</dd>\n",
       "\t<dt>$capital</dt>\n",
       "\t\t<dd>'logical'</dd>\n",
       "</dl>\n"
      ],
      "text/latex": [
       "\\begin{description}\n",
       "\\item[\\$pop] 'numeric'\n",
       "\\item[\\$boroughs] 'character'\n",
       "\\item[\\$capital] 'logical'\n",
       "\\end{description}\n"
      ],
      "text/markdown": [
       "$pop\n",
       ":   'numeric'\n",
       "$boroughs\n",
       ":   'character'\n",
       "$capital\n",
       ":   'logical'\n",
       "\n",
       "\n"
      ],
      "text/plain": [
       "$pop\n",
       "[1] \"numeric\"\n",
       "\n",
       "$boroughs\n",
       "[1] \"character\"\n",
       "\n",
       "$capital\n",
       "[1] \"logical\"\n"
      ]
     },
     "metadata": {},
     "output_type": "display_data"
    },
    {
     "data": {
      "text/html": [
       "<dl class=dl-horizontal>\n",
       "\t<dt>pop</dt>\n",
       "\t\t<dd>'numeric'</dd>\n",
       "\t<dt>boroughs</dt>\n",
       "\t\t<dd>'character'</dd>\n",
       "\t<dt>capital</dt>\n",
       "\t\t<dd>'logical'</dd>\n",
       "</dl>\n"
      ],
      "text/latex": [
       "\\begin{description*}\n",
       "\\item[pop] 'numeric'\n",
       "\\item[boroughs] 'character'\n",
       "\\item[capital] 'logical'\n",
       "\\end{description*}\n"
      ],
      "text/markdown": [
       "pop\n",
       ":   'numeric'boroughs\n",
       ":   'character'capital\n",
       ":   'logical'\n",
       "\n"
      ],
      "text/plain": [
       "        pop    boroughs     capital \n",
       "  \"numeric\" \"character\"   \"logical\" "
      ]
     },
     "metadata": {},
     "output_type": "display_data"
    }
   ],
   "source": [
    "# Example 01\n",
    "# 定义一个 list\n",
    "nyc<- list(pop=8405837,\n",
    "          boroughs = c(\"Manhattan\",\"Bronx\",\"Brooklyn\",\"Queens\",\"Staten Island\"),\n",
    "          capital = FALSE)\n",
    "\n",
    "# for 语句\n",
    "for(info in nyc){\n",
    "    print (class(info))\n",
    "}\n",
    "\n",
    "# lapply\n",
    "lapply(nyc,class) \n",
    "# x = nyc\n",
    "# fun = class()\n",
    "# 结果会以 list 的结果呈现。\n",
    "unlist(lapply(nyc,class))"
   ]
  },
  {
   "cell_type": "code",
   "execution_count": 13,
   "metadata": {
    "scrolled": true,
    "slideshow": {
     "slide_type": "notes"
    }
   },
   "outputs": [
    {
     "data": {
      "text/html": [
       "<ol class=list-inline>\n",
       "\t<li>8</li>\n",
       "\t<li>5</li>\n",
       "\t<li>6</li>\n",
       "\t<li>5</li>\n",
       "\t<li>14</li>\n",
       "\t<li>9</li>\n",
       "</ol>\n"
      ],
      "text/latex": [
       "\\begin{enumerate*}\n",
       "\\item 8\n",
       "\\item 5\n",
       "\\item 6\n",
       "\\item 5\n",
       "\\item 14\n",
       "\\item 9\n",
       "\\end{enumerate*}\n"
      ],
      "text/markdown": [
       "1. 8\n",
       "2. 5\n",
       "3. 6\n",
       "4. 5\n",
       "5. 14\n",
       "6. 9\n",
       "\n",
       "\n"
      ],
      "text/plain": [
       "[1]  8  5  6  5 14  9"
      ]
     },
     "metadata": {},
     "output_type": "display_data"
    },
    {
     "data": {
      "text/html": [
       "<ol>\n",
       "\t<li>8</li>\n",
       "\t<li>5</li>\n",
       "\t<li>6</li>\n",
       "\t<li>5</li>\n",
       "\t<li>14</li>\n",
       "\t<li>9</li>\n",
       "</ol>\n"
      ],
      "text/latex": [
       "\\begin{enumerate}\n",
       "\\item 8\n",
       "\\item 5\n",
       "\\item 6\n",
       "\\item 5\n",
       "\\item 14\n",
       "\\item 9\n",
       "\\end{enumerate}\n"
      ],
      "text/markdown": [
       "1. 8\n",
       "2. 5\n",
       "3. 6\n",
       "4. 5\n",
       "5. 14\n",
       "6. 9\n",
       "\n",
       "\n"
      ],
      "text/plain": [
       "[[1]]\n",
       "[1] 8\n",
       "\n",
       "[[2]]\n",
       "[1] 5\n",
       "\n",
       "[[3]]\n",
       "[1] 6\n",
       "\n",
       "[[4]]\n",
       "[1] 5\n",
       "\n",
       "[[5]]\n",
       "[1] 14\n",
       "\n",
       "[[6]]\n",
       "[1] 9\n"
      ]
     },
     "metadata": {},
     "output_type": "display_data"
    },
    {
     "data": {
      "text/html": [
       "<ol class=list-inline>\n",
       "\t<li>8</li>\n",
       "\t<li>5</li>\n",
       "\t<li>6</li>\n",
       "\t<li>5</li>\n",
       "\t<li>14</li>\n",
       "\t<li>9</li>\n",
       "</ol>\n"
      ],
      "text/latex": [
       "\\begin{enumerate*}\n",
       "\\item 8\n",
       "\\item 5\n",
       "\\item 6\n",
       "\\item 5\n",
       "\\item 14\n",
       "\\item 9\n",
       "\\end{enumerate*}\n"
      ],
      "text/markdown": [
       "1. 8\n",
       "2. 5\n",
       "3. 6\n",
       "4. 5\n",
       "5. 14\n",
       "6. 9\n",
       "\n",
       "\n"
      ],
      "text/plain": [
       "[1]  8  5  6  5 14  9"
      ]
     },
     "metadata": {},
     "output_type": "display_data"
    }
   ],
   "source": [
    "# Example 02\n",
    "# 建一个向量\n",
    "cities<- c(\"New york\",\"paris\",\"london\",\"tokyo\",\"rio de janeiro\",\"cape town\")\n",
    "\n",
    "# for 语句\n",
    "num_chars<- c()  # 先建一个空向量\n",
    "for(i in 1:length(cities)){\n",
    "    num_chars[i]<- nchar(cities[i]) # 将值赋予给空向量里对应的格子\n",
    "}\n",
    "num_chars\n",
    "\n",
    "# lapply语句\n",
    "lapply(cities,nchar) # 返回的是list\n",
    "\n",
    "unlist(lapply(cities,nchar))# 返回的是 vector"
   ]
  },
  {
   "cell_type": "code",
   "execution_count": 18,
   "metadata": {},
   "outputs": [
    {
     "name": "stdout",
     "output_type": "stream",
     "text": [
      "List of 6\n",
      " $ : num 7.11\n",
      " $ : num 7.47\n",
      " $ : num 6.54\n",
      " $ : num 6.66\n",
      " $ : num 7.41\n",
      " $ : num 6.96\n"
     ]
    },
    {
     "data": {
      "text/html": [
       "<ol class=list-inline>\n",
       "\t<li>7.11</li>\n",
       "\t<li>7.47</li>\n",
       "\t<li>6.54</li>\n",
       "\t<li>6.66</li>\n",
       "\t<li>7.41</li>\n",
       "\t<li>6.96</li>\n",
       "</ol>\n"
      ],
      "text/latex": [
       "\\begin{enumerate*}\n",
       "\\item 7.11\n",
       "\\item 7.47\n",
       "\\item 6.54\n",
       "\\item 6.66\n",
       "\\item 7.41\n",
       "\\item 6.96\n",
       "\\end{enumerate*}\n"
      ],
      "text/markdown": [
       "1. 7.11\n",
       "2. 7.47\n",
       "3. 6.54\n",
       "4. 6.66\n",
       "5. 7.41\n",
       "6. 6.96\n",
       "\n",
       "\n"
      ],
      "text/plain": [
       "[1] 7.11 7.47 6.54 6.66 7.41 6.96"
      ]
     },
     "metadata": {},
     "output_type": "display_data"
    },
    {
     "data": {
      "text/html": [
       "<ol class=list-inline>\n",
       "\t<li>7.11</li>\n",
       "\t<li>7.47</li>\n",
       "\t<li>6.54</li>\n",
       "\t<li>6.66</li>\n",
       "\t<li>7.41</li>\n",
       "\t<li>6.96</li>\n",
       "</ol>\n"
      ],
      "text/latex": [
       "\\begin{enumerate*}\n",
       "\\item 7.11\n",
       "\\item 7.47\n",
       "\\item 6.54\n",
       "\\item 6.66\n",
       "\\item 7.41\n",
       "\\item 6.96\n",
       "\\end{enumerate*}\n"
      ],
      "text/markdown": [
       "1. 7.11\n",
       "2. 7.47\n",
       "3. 6.54\n",
       "4. 6.66\n",
       "5. 7.41\n",
       "6. 6.96\n",
       "\n",
       "\n"
      ],
      "text/plain": [
       "[1] 7.11 7.47 6.54 6.66 7.41 6.96"
      ]
     },
     "metadata": {},
     "output_type": "display_data"
    },
    {
     "data": {
      "text/html": [
       "<ol class=list-inline>\n",
       "\t<li>11.85</li>\n",
       "\t<li>12.45</li>\n",
       "\t<li>10.9</li>\n",
       "\t<li>11.1</li>\n",
       "\t<li>12.35</li>\n",
       "\t<li>11.6</li>\n",
       "</ol>\n"
      ],
      "text/latex": [
       "\\begin{enumerate*}\n",
       "\\item 11.85\n",
       "\\item 12.45\n",
       "\\item 10.9\n",
       "\\item 11.1\n",
       "\\item 12.35\n",
       "\\item 11.6\n",
       "\\end{enumerate*}\n"
      ],
      "text/markdown": [
       "1. 11.85\n",
       "2. 12.45\n",
       "3. 10.9\n",
       "4. 11.1\n",
       "5. 12.35\n",
       "6. 11.6\n",
       "\n",
       "\n"
      ],
      "text/plain": [
       "[1] 11.85 12.45 10.90 11.10 12.35 11.60"
      ]
     },
     "metadata": {},
     "output_type": "display_data"
    }
   ],
   "source": [
    "# Example 03\n",
    "oil_prices <- list(2.37, 2.49, 2.18, 2.22, 2.47, 2.32) \n",
    "triple <- function(x){\n",
    "    3 * x\n",
    "}\n",
    "result<- lapply(oil_prices,triple)\n",
    "str(result)\n",
    "unlist(result)\n",
    "#========================================================\n",
    "multiply<- function(x,times){\n",
    "    x * times\n",
    "}\n",
    "# lapply( x, fun, ...)这里的省略号用来补充不同的参数设置\n",
    "# 比如说这里就规定了函数 multiply 的 times 参数\n",
    "triple33<- lapply(oil_prices,multiply, times = 3) \n",
    "unlist(triple33)\n",
    "fivetimes<- lapply(oil_prices,multiply,times = 5)\n",
    "unlist(fivetimes)"
   ]
  },
  {
   "cell_type": "code",
   "execution_count": null,
   "metadata": {},
   "outputs": [],
   "source": [
    "##===================\n",
    "#     练习\n",
    "##===================\n",
    "# The vector pioneers has already been created for you\n",
    "pioneers <- c(\"GAUSS:1777\", \"BAYES:1702\", \"PASCAL:1623\", \"PEARSON:1857\")\n",
    "\n",
    "# Split names from birth year\n",
    "split_math <- strsplit(pioneers, split = \":\")\n",
    "\n",
    "# Convert to lowercase strings: split_low\n",
    "split_low<- lapply(split_math,tolower)\n",
    "\n",
    "# Take a look at the structure of split_low\n",
    "str(split_low)"
   ]
  },
  {
   "cell_type": "markdown",
   "metadata": {},
   "source": [
    "写两个函数分别提取 `split_low`里的第一列和第二列"
   ]
  },
  {
   "cell_type": "code",
   "execution_count": null,
   "metadata": {},
   "outputs": [],
   "source": [
    "#============================================\n",
    "# Code from previous exercise:\n",
    "pioneers <- c(\"GAUSS:1777\", \"BAYES:1702\", \"PASCAL:1623\", \"PEARSON:1857\")\n",
    "split <- strsplit(pioneers, split = \":\")\n",
    "split_low <- lapply(split, tolower)\n",
    "# Write function select_first()\n",
    "select_first <- function(x) {\n",
    "  x[1]\n",
    "}\n",
    "\n",
    "# Apply select_first() over split_low: names\n",
    "names<- lapply(split_low,select_first)\n",
    "\n",
    "# Write function select_second()\n",
    "select_second<- function(x){\n",
    "  x[2]\n",
    "}\n",
    "\n",
    "# Apply select_second() over split_low: years\n",
    "years<- lapply(split_low,select_second)"
   ]
  },
  {
   "cell_type": "markdown",
   "metadata": {},
   "source": [
    "这种提取一行就写一个函数的效率太慢了，可以根据上面 `triple`变`multiply`的方法，通过**把常数变成一个参数**；"
   ]
  },
  {
   "cell_type": "code",
   "execution_count": 3,
   "metadata": {},
   "outputs": [
    {
     "data": {
      "text/html": [
       "<ol>\n",
       "\t<li>'gauss'</li>\n",
       "\t<li>'bayes'</li>\n",
       "\t<li>'pascal'</li>\n",
       "\t<li>'pearson'</li>\n",
       "</ol>\n"
      ],
      "text/latex": [
       "\\begin{enumerate}\n",
       "\\item 'gauss'\n",
       "\\item 'bayes'\n",
       "\\item 'pascal'\n",
       "\\item 'pearson'\n",
       "\\end{enumerate}\n"
      ],
      "text/markdown": [
       "1. 'gauss'\n",
       "2. 'bayes'\n",
       "3. 'pascal'\n",
       "4. 'pearson'\n",
       "\n",
       "\n"
      ],
      "text/plain": [
       "[[1]]\n",
       "[1] \"gauss\"\n",
       "\n",
       "[[2]]\n",
       "[1] \"bayes\"\n",
       "\n",
       "[[3]]\n",
       "[1] \"pascal\"\n",
       "\n",
       "[[4]]\n",
       "[1] \"pearson\"\n"
      ]
     },
     "metadata": {},
     "output_type": "display_data"
    },
    {
     "data": {
      "text/html": [
       "<ol>\n",
       "\t<li>'1777'</li>\n",
       "\t<li>'1702'</li>\n",
       "\t<li>'1623'</li>\n",
       "\t<li>'1857'</li>\n",
       "</ol>\n"
      ],
      "text/latex": [
       "\\begin{enumerate}\n",
       "\\item '1777'\n",
       "\\item '1702'\n",
       "\\item '1623'\n",
       "\\item '1857'\n",
       "\\end{enumerate}\n"
      ],
      "text/markdown": [
       "1. '1777'\n",
       "2. '1702'\n",
       "3. '1623'\n",
       "4. '1857'\n",
       "\n",
       "\n"
      ],
      "text/plain": [
       "[[1]]\n",
       "[1] \"1777\"\n",
       "\n",
       "[[2]]\n",
       "[1] \"1702\"\n",
       "\n",
       "[[3]]\n",
       "[1] \"1623\"\n",
       "\n",
       "[[4]]\n",
       "[1] \"1857\"\n"
      ]
     },
     "metadata": {},
     "output_type": "display_data"
    }
   ],
   "source": [
    "# ===========================================\n",
    "# Code from previous exercise:\n",
    "pioneers <- c(\"GAUSS:1777\", \"BAYES:1702\", \"PASCAL:1623\", \"PEARSON:1857\")\n",
    "split <- strsplit(pioneers, split = \":\")\n",
    "split_low <- lapply(split, tolower)\n",
    "# Generic select function\n",
    "select_el <- function(x, index) { # 用给 index 赋值的方法来替代多次重复写程序\n",
    "  x[index]\n",
    "}\n",
    "\n",
    "# Use lapply() twice on split_low: names and years\n",
    "names<-lapply(split_low,select_el,index=1)\n",
    "years<-lapply(split_low,select_el,index=2)\n",
    "names\n",
    "years\n"
   ]
  },
  {
   "cell_type": "markdown",
   "metadata": {},
   "source": [
    "##### 注意\n",
    "函数 `strsplit()`：用于以特定格式分割字符串；\n",
    "\n",
    "strsplit(x, split, fixed = FALSE, perl = FALSE, useBytes = FALSE)\n",
    "\n",
    "x: 分割的对象，必须是 character\n",
    "split: 如果是 \"\" 则将每个字符分割,上述例子是以`:`分割的\n",
    "\n",
    "函数`tolower()`: 改变字母大小写\n",
    "\n",
    " - tolower(x) 小写\n",
    "\n",
    " - toupper(x) 大写"
   ]
  },
  {
   "cell_type": "markdown",
   "metadata": {},
   "source": [
    "## sapply\n",
    "\n",
    "`sapply` 是 `lapply`的简化版；\n",
    "\n",
    "`sapply`增加了2个参数`simplify`和`USE.NAMES`，主要就是让输出看起来更友好，**返回值为向量**，而不是list对象。\n",
    "```r\n",
    "sapply(X, FUN, ..., simplify=TRUE, USE.NAMES = TRUE)\n",
    "```\n",
    "\n",
    "   - X: 数组、矩阵、数据框\n",
    "   - FUN: 自定义的调用函数\n",
    "   - …: 更多参数，可选\n",
    "   - simplify: 是否数组化，当值array时，输出结果按数组进行分组\n",
    "   - USE.NAMES: 如果X为字符串，TRUE设置字符串为数据名，FALSE不设置\n"
   ]
  },
  {
   "cell_type": "code",
   "execution_count": 6,
   "metadata": {},
   "outputs": [
    {
     "data": {
      "text/html": [
       "<ol class=list-inline>\n",
       "\t<li>8</li>\n",
       "\t<li>5</li>\n",
       "\t<li>6</li>\n",
       "\t<li>5</li>\n",
       "\t<li>14</li>\n",
       "\t<li>9</li>\n",
       "</ol>\n"
      ],
      "text/latex": [
       "\\begin{enumerate*}\n",
       "\\item 8\n",
       "\\item 5\n",
       "\\item 6\n",
       "\\item 5\n",
       "\\item 14\n",
       "\\item 9\n",
       "\\end{enumerate*}\n"
      ],
      "text/markdown": [
       "1. 8\n",
       "2. 5\n",
       "3. 6\n",
       "4. 5\n",
       "5. 14\n",
       "6. 9\n",
       "\n",
       "\n"
      ],
      "text/plain": [
       "[1]  8  5  6  5 14  9"
      ]
     },
     "metadata": {},
     "output_type": "display_data"
    },
    {
     "data": {
      "text/html": [
       "<dl class=dl-horizontal>\n",
       "\t<dt>New York</dt>\n",
       "\t\t<dd>8</dd>\n",
       "\t<dt>Paris</dt>\n",
       "\t\t<dd>5</dd>\n",
       "\t<dt>London</dt>\n",
       "\t\t<dd>6</dd>\n",
       "\t<dt>Tokyo</dt>\n",
       "\t\t<dd>5</dd>\n",
       "\t<dt>Rio de Janeiro</dt>\n",
       "\t\t<dd>14</dd>\n",
       "\t<dt>Cape Town</dt>\n",
       "\t\t<dd>9</dd>\n",
       "</dl>\n"
      ],
      "text/latex": [
       "\\begin{description*}\n",
       "\\item[New York] 8\n",
       "\\item[Paris] 5\n",
       "\\item[London] 6\n",
       "\\item[Tokyo] 5\n",
       "\\item[Rio de Janeiro] 14\n",
       "\\item[Cape Town] 9\n",
       "\\end{description*}\n"
      ],
      "text/markdown": [
       "New York\n",
       ":   8Paris\n",
       ":   5London\n",
       ":   6Tokyo\n",
       ":   5Rio de Janeiro\n",
       ":   14Cape Town\n",
       ":   9\n",
       "\n"
      ],
      "text/plain": [
       "      New York          Paris         London          Tokyo Rio de Janeiro \n",
       "             8              5              6              5             14 \n",
       "     Cape Town \n",
       "             9 "
      ]
     },
     "metadata": {},
     "output_type": "display_data"
    },
    {
     "data": {
      "text/html": [
       "<ol class=list-inline>\n",
       "\t<li>8</li>\n",
       "\t<li>5</li>\n",
       "\t<li>6</li>\n",
       "\t<li>5</li>\n",
       "\t<li>14</li>\n",
       "\t<li>9</li>\n",
       "</ol>\n"
      ],
      "text/latex": [
       "\\begin{enumerate*}\n",
       "\\item 8\n",
       "\\item 5\n",
       "\\item 6\n",
       "\\item 5\n",
       "\\item 14\n",
       "\\item 9\n",
       "\\end{enumerate*}\n"
      ],
      "text/markdown": [
       "1. 8\n",
       "2. 5\n",
       "3. 6\n",
       "4. 5\n",
       "5. 14\n",
       "6. 9\n",
       "\n",
       "\n"
      ],
      "text/plain": [
       "[1]  8  5  6  5 14  9"
      ]
     },
     "metadata": {},
     "output_type": "display_data"
    }
   ],
   "source": [
    "# 还是以 cities 为例子: \n",
    "cities <- c(\"New York\", \"Paris\", \"London\", \"Tokyo\", \n",
    "              \"Rio de Janeiro\", \"Cape Town\") \n",
    "unlist(lapply(cities,nchar))\n",
    "\n",
    "sapply(cities,nchar) # use.names默认是TRUE,所以会把字符串设为数据名\n",
    "sapply(cities,nchar,USE.NAMES = FALSE)\n"
   ]
  },
  {
   "cell_type": "code",
   "execution_count": 14,
   "metadata": {},
   "outputs": [
    {
     "data": {
      "text/html": [
       "<dl class=dl-horizontal>\n",
       "\t<dt>first</dt>\n",
       "\t\t<dd>'e'</dd>\n",
       "\t<dt>last</dt>\n",
       "\t\t<dd>'Y'</dd>\n",
       "</dl>\n"
      ],
      "text/latex": [
       "\\begin{description*}\n",
       "\\item[first] 'e'\n",
       "\\item[last] 'Y'\n",
       "\\end{description*}\n"
      ],
      "text/markdown": [
       "first\n",
       ":   'e'last\n",
       ":   'Y'\n",
       "\n"
      ],
      "text/plain": [
       "first  last \n",
       "  \"e\"   \"Y\" "
      ]
     },
     "metadata": {},
     "output_type": "display_data"
    },
    {
     "data": {
      "text/html": [
       "<table>\n",
       "<thead><tr><th></th><th scope=col>New York</th><th scope=col>Paris</th><th scope=col>London</th><th scope=col>Tokyo</th><th scope=col>Rio de Janeiro</th><th scope=col>Cape Town</th></tr></thead>\n",
       "<tbody>\n",
       "\t<tr><th scope=row>first</th><td>e</td><td>a</td><td>d</td><td>k</td><td>a</td><td>a</td></tr>\n",
       "\t<tr><th scope=row>last</th><td>Y</td><td>s</td><td>o</td><td>y</td><td>R</td><td>w</td></tr>\n",
       "</tbody>\n",
       "</table>\n"
      ],
      "text/latex": [
       "\\begin{tabular}{r|llllll}\n",
       "  & New York & Paris & London & Tokyo & Rio de Janeiro & Cape Town\\\\\n",
       "\\hline\n",
       "\tfirst & e & a & d & k & a & a\\\\\n",
       "\tlast & Y & s & o & y & R & w\\\\\n",
       "\\end{tabular}\n"
      ],
      "text/markdown": [
       "\n",
       "| <!--/--> | New York | Paris | London | Tokyo | Rio de Janeiro | Cape Town |\n",
       "|---|---|---|---|---|---|---|\n",
       "| first | e | a | d | k | a | a |\n",
       "| last | Y | s | o | y | R | w |\n",
       "\n"
      ],
      "text/plain": [
       "      New York Paris London Tokyo Rio de Janeiro Cape Town\n",
       "first e        a     d      k     a              a        \n",
       "last  Y        s     o      y     R              w        "
      ]
     },
     "metadata": {},
     "output_type": "display_data"
    },
    {
     "data": {
      "text/html": [
       "<table>\n",
       "<tbody>\n",
       "\t<tr><th scope=row>first</th><td>e</td><td>a</td><td>d</td><td>k</td><td>a</td><td>a</td></tr>\n",
       "\t<tr><th scope=row>last</th><td>Y</td><td>s</td><td>o</td><td>y</td><td>R</td><td>w</td></tr>\n",
       "</tbody>\n",
       "</table>\n"
      ],
      "text/latex": [
       "\\begin{tabular}{r|llllll}\n",
       "\tfirst & e & a & d & k & a & a\\\\\n",
       "\tlast & Y & s & o & y & R & w\\\\\n",
       "\\end{tabular}\n"
      ],
      "text/markdown": [
       "\n",
       "| first | e | a | d | k | a | a |\n",
       "| last | Y | s | o | y | R | w |\n",
       "\n"
      ],
      "text/plain": [
       "      [,1] [,2] [,3] [,4] [,5] [,6]\n",
       "first e    a    d    k    a    a   \n",
       "last  Y    s    o    y    R    w   "
      ]
     },
     "metadata": {},
     "output_type": "display_data"
    }
   ],
   "source": [
    "# Example 02 \n",
    "# 筛选出每个城市单词里最小和最大的字母（按字母表顺序）\n",
    "\n",
    "first_and_last<- function(name){\n",
    "    name<- gsub(\" \",\"\",name)\n",
    "    letters<- strsplit(name,split=\"\")[[1]] #返回的结果是list ,所以要把内容取出来\n",
    "    c(first= min(letters),last= max(letters)) #等到一个两个元素的向量 min和max\n",
    "}\n",
    "\n",
    "first_and_last(\"New York\")\n",
    "\n",
    "# 使用 sapply 完成对list 每一个元素的检测；\n",
    "sapply(cities,first_and_last,USE.NAMES = TRUE )\n",
    "sapply(cities,first_and_last,USE.NAMES = FALSE)"
   ]
  },
  {
   "cell_type": "markdown",
   "metadata": {},
   "source": [
    "关于 `gsub ()`\n",
    "```r\n",
    "gsub(pattern, replacement, x, ignore.case = FALSE, perl = FALSE,\n",
    "     fixed = FALSE, useBytes = FALSE)\n",
    "```\n",
    "\n",
    "如果`simplify = FALSE`和`USE.NAMES= FALSE`，那么 **sapply 函数就等于 lapply函数**了。"
   ]
  },
  {
   "cell_type": "code",
   "execution_count": 26,
   "metadata": {},
   "outputs": [
    {
     "data": {
      "text/html": [
       "<ol class=list-inline>\n",
       "\t<li>'L'</li>\n",
       "\t<li>'o'</li>\n",
       "\t<li>'n'</li>\n",
       "\t<li>'d'</li>\n",
       "</ol>\n"
      ],
      "text/latex": [
       "\\begin{enumerate*}\n",
       "\\item 'L'\n",
       "\\item 'o'\n",
       "\\item 'n'\n",
       "\\item 'd'\n",
       "\\end{enumerate*}\n"
      ],
      "text/markdown": [
       "1. 'L'\n",
       "2. 'o'\n",
       "3. 'n'\n",
       "4. 'd'\n",
       "\n",
       "\n"
      ],
      "text/plain": [
       "[1] \"L\" \"o\" \"n\" \"d\""
      ]
     },
     "metadata": {},
     "output_type": "display_data"
    },
    {
     "data": {
      "text/html": [
       "<ol>\n",
       "\t<li><ol class=list-inline>\n",
       "\t<li>'N'</li>\n",
       "\t<li>'e'</li>\n",
       "\t<li>'w'</li>\n",
       "\t<li>'Y'</li>\n",
       "\t<li>'o'</li>\n",
       "\t<li>'r'</li>\n",
       "\t<li>'k'</li>\n",
       "</ol>\n",
       "</li>\n",
       "\t<li><ol class=list-inline>\n",
       "\t<li>'P'</li>\n",
       "\t<li>'a'</li>\n",
       "\t<li>'r'</li>\n",
       "\t<li>'i'</li>\n",
       "\t<li>'s'</li>\n",
       "</ol>\n",
       "</li>\n",
       "\t<li><ol class=list-inline>\n",
       "\t<li>'L'</li>\n",
       "\t<li>'o'</li>\n",
       "\t<li>'n'</li>\n",
       "\t<li>'d'</li>\n",
       "</ol>\n",
       "</li>\n",
       "\t<li><ol class=list-inline>\n",
       "\t<li>'T'</li>\n",
       "\t<li>'o'</li>\n",
       "\t<li>'k'</li>\n",
       "\t<li>'y'</li>\n",
       "</ol>\n",
       "</li>\n",
       "\t<li><ol class=list-inline>\n",
       "\t<li>'R'</li>\n",
       "\t<li>'i'</li>\n",
       "\t<li>'o'</li>\n",
       "\t<li>'d'</li>\n",
       "\t<li>'e'</li>\n",
       "\t<li>'J'</li>\n",
       "\t<li>'a'</li>\n",
       "\t<li>'n'</li>\n",
       "\t<li>'r'</li>\n",
       "</ol>\n",
       "</li>\n",
       "\t<li><ol class=list-inline>\n",
       "\t<li>'C'</li>\n",
       "\t<li>'a'</li>\n",
       "\t<li>'p'</li>\n",
       "\t<li>'e'</li>\n",
       "\t<li>'T'</li>\n",
       "\t<li>'o'</li>\n",
       "\t<li>'w'</li>\n",
       "\t<li>'n'</li>\n",
       "</ol>\n",
       "</li>\n",
       "</ol>\n"
      ],
      "text/latex": [
       "\\begin{enumerate}\n",
       "\\item \\begin{enumerate*}\n",
       "\\item 'N'\n",
       "\\item 'e'\n",
       "\\item 'w'\n",
       "\\item 'Y'\n",
       "\\item 'o'\n",
       "\\item 'r'\n",
       "\\item 'k'\n",
       "\\end{enumerate*}\n",
       "\n",
       "\\item \\begin{enumerate*}\n",
       "\\item 'P'\n",
       "\\item 'a'\n",
       "\\item 'r'\n",
       "\\item 'i'\n",
       "\\item 's'\n",
       "\\end{enumerate*}\n",
       "\n",
       "\\item \\begin{enumerate*}\n",
       "\\item 'L'\n",
       "\\item 'o'\n",
       "\\item 'n'\n",
       "\\item 'd'\n",
       "\\end{enumerate*}\n",
       "\n",
       "\\item \\begin{enumerate*}\n",
       "\\item 'T'\n",
       "\\item 'o'\n",
       "\\item 'k'\n",
       "\\item 'y'\n",
       "\\end{enumerate*}\n",
       "\n",
       "\\item \\begin{enumerate*}\n",
       "\\item 'R'\n",
       "\\item 'i'\n",
       "\\item 'o'\n",
       "\\item 'd'\n",
       "\\item 'e'\n",
       "\\item 'J'\n",
       "\\item 'a'\n",
       "\\item 'n'\n",
       "\\item 'r'\n",
       "\\end{enumerate*}\n",
       "\n",
       "\\item \\begin{enumerate*}\n",
       "\\item 'C'\n",
       "\\item 'a'\n",
       "\\item 'p'\n",
       "\\item 'e'\n",
       "\\item 'T'\n",
       "\\item 'o'\n",
       "\\item 'w'\n",
       "\\item 'n'\n",
       "\\end{enumerate*}\n",
       "\n",
       "\\end{enumerate}\n"
      ],
      "text/markdown": [
       "1. 1. 'N'\n",
       "2. 'e'\n",
       "3. 'w'\n",
       "4. 'Y'\n",
       "5. 'o'\n",
       "6. 'r'\n",
       "7. 'k'\n",
       "\n",
       "\n",
       "\n",
       "2. 1. 'P'\n",
       "2. 'a'\n",
       "3. 'r'\n",
       "4. 'i'\n",
       "5. 's'\n",
       "\n",
       "\n",
       "\n",
       "3. 1. 'L'\n",
       "2. 'o'\n",
       "3. 'n'\n",
       "4. 'd'\n",
       "\n",
       "\n",
       "\n",
       "4. 1. 'T'\n",
       "2. 'o'\n",
       "3. 'k'\n",
       "4. 'y'\n",
       "\n",
       "\n",
       "\n",
       "5. 1. 'R'\n",
       "2. 'i'\n",
       "3. 'o'\n",
       "4. 'd'\n",
       "5. 'e'\n",
       "6. 'J'\n",
       "7. 'a'\n",
       "8. 'n'\n",
       "9. 'r'\n",
       "\n",
       "\n",
       "\n",
       "6. 1. 'C'\n",
       "2. 'a'\n",
       "3. 'p'\n",
       "4. 'e'\n",
       "5. 'T'\n",
       "6. 'o'\n",
       "7. 'w'\n",
       "8. 'n'\n",
       "\n",
       "\n",
       "\n",
       "\n",
       "\n"
      ],
      "text/plain": [
       "[[1]]\n",
       "[1] \"N\" \"e\" \"w\" \"Y\" \"o\" \"r\" \"k\"\n",
       "\n",
       "[[2]]\n",
       "[1] \"P\" \"a\" \"r\" \"i\" \"s\"\n",
       "\n",
       "[[3]]\n",
       "[1] \"L\" \"o\" \"n\" \"d\"\n",
       "\n",
       "[[4]]\n",
       "[1] \"T\" \"o\" \"k\" \"y\"\n",
       "\n",
       "[[5]]\n",
       "[1] \"R\" \"i\" \"o\" \"d\" \"e\" \"J\" \"a\" \"n\" \"r\"\n",
       "\n",
       "[[6]]\n",
       "[1] \"C\" \"a\" \"p\" \"e\" \"T\" \"o\" \"w\" \"n\"\n"
      ]
     },
     "metadata": {},
     "output_type": "display_data"
    },
    {
     "data": {
      "text/html": [
       "<dl>\n",
       "\t<dt>$`New York`</dt>\n",
       "\t\t<dd><ol class=list-inline>\n",
       "\t<li>'N'</li>\n",
       "\t<li>'e'</li>\n",
       "\t<li>'w'</li>\n",
       "\t<li>'Y'</li>\n",
       "\t<li>'o'</li>\n",
       "\t<li>'r'</li>\n",
       "\t<li>'k'</li>\n",
       "</ol>\n",
       "</dd>\n",
       "\t<dt>$Paris</dt>\n",
       "\t\t<dd><ol class=list-inline>\n",
       "\t<li>'P'</li>\n",
       "\t<li>'a'</li>\n",
       "\t<li>'r'</li>\n",
       "\t<li>'i'</li>\n",
       "\t<li>'s'</li>\n",
       "</ol>\n",
       "</dd>\n",
       "\t<dt>$London</dt>\n",
       "\t\t<dd><ol class=list-inline>\n",
       "\t<li>'L'</li>\n",
       "\t<li>'o'</li>\n",
       "\t<li>'n'</li>\n",
       "\t<li>'d'</li>\n",
       "</ol>\n",
       "</dd>\n",
       "\t<dt>$Tokyo</dt>\n",
       "\t\t<dd><ol class=list-inline>\n",
       "\t<li>'T'</li>\n",
       "\t<li>'o'</li>\n",
       "\t<li>'k'</li>\n",
       "\t<li>'y'</li>\n",
       "</ol>\n",
       "</dd>\n",
       "\t<dt>$`Rio de Janeiro`</dt>\n",
       "\t\t<dd><ol class=list-inline>\n",
       "\t<li>'R'</li>\n",
       "\t<li>'i'</li>\n",
       "\t<li>'o'</li>\n",
       "\t<li>'d'</li>\n",
       "\t<li>'e'</li>\n",
       "\t<li>'J'</li>\n",
       "\t<li>'a'</li>\n",
       "\t<li>'n'</li>\n",
       "\t<li>'r'</li>\n",
       "</ol>\n",
       "</dd>\n",
       "\t<dt>$`Cape Town`</dt>\n",
       "\t\t<dd><ol class=list-inline>\n",
       "\t<li>'C'</li>\n",
       "\t<li>'a'</li>\n",
       "\t<li>'p'</li>\n",
       "\t<li>'e'</li>\n",
       "\t<li>'T'</li>\n",
       "\t<li>'o'</li>\n",
       "\t<li>'w'</li>\n",
       "\t<li>'n'</li>\n",
       "</ol>\n",
       "</dd>\n",
       "</dl>\n"
      ],
      "text/latex": [
       "\\begin{description}\n",
       "\\item[\\$`New York`] \\begin{enumerate*}\n",
       "\\item 'N'\n",
       "\\item 'e'\n",
       "\\item 'w'\n",
       "\\item 'Y'\n",
       "\\item 'o'\n",
       "\\item 'r'\n",
       "\\item 'k'\n",
       "\\end{enumerate*}\n",
       "\n",
       "\\item[\\$Paris] \\begin{enumerate*}\n",
       "\\item 'P'\n",
       "\\item 'a'\n",
       "\\item 'r'\n",
       "\\item 'i'\n",
       "\\item 's'\n",
       "\\end{enumerate*}\n",
       "\n",
       "\\item[\\$London] \\begin{enumerate*}\n",
       "\\item 'L'\n",
       "\\item 'o'\n",
       "\\item 'n'\n",
       "\\item 'd'\n",
       "\\end{enumerate*}\n",
       "\n",
       "\\item[\\$Tokyo] \\begin{enumerate*}\n",
       "\\item 'T'\n",
       "\\item 'o'\n",
       "\\item 'k'\n",
       "\\item 'y'\n",
       "\\end{enumerate*}\n",
       "\n",
       "\\item[\\$`Rio de Janeiro`] \\begin{enumerate*}\n",
       "\\item 'R'\n",
       "\\item 'i'\n",
       "\\item 'o'\n",
       "\\item 'd'\n",
       "\\item 'e'\n",
       "\\item 'J'\n",
       "\\item 'a'\n",
       "\\item 'n'\n",
       "\\item 'r'\n",
       "\\end{enumerate*}\n",
       "\n",
       "\\item[\\$`Cape Town`] \\begin{enumerate*}\n",
       "\\item 'C'\n",
       "\\item 'a'\n",
       "\\item 'p'\n",
       "\\item 'e'\n",
       "\\item 'T'\n",
       "\\item 'o'\n",
       "\\item 'w'\n",
       "\\item 'n'\n",
       "\\end{enumerate*}\n",
       "\n",
       "\\end{description}\n"
      ],
      "text/markdown": [
       "$`New York`\n",
       ":   1. 'N'\n",
       "2. 'e'\n",
       "3. 'w'\n",
       "4. 'Y'\n",
       "5. 'o'\n",
       "6. 'r'\n",
       "7. 'k'\n",
       "\n",
       "\n",
       "\n",
       "$Paris\n",
       ":   1. 'P'\n",
       "2. 'a'\n",
       "3. 'r'\n",
       "4. 'i'\n",
       "5. 's'\n",
       "\n",
       "\n",
       "\n",
       "$London\n",
       ":   1. 'L'\n",
       "2. 'o'\n",
       "3. 'n'\n",
       "4. 'd'\n",
       "\n",
       "\n",
       "\n",
       "$Tokyo\n",
       ":   1. 'T'\n",
       "2. 'o'\n",
       "3. 'k'\n",
       "4. 'y'\n",
       "\n",
       "\n",
       "\n",
       "$`Rio de Janeiro`\n",
       ":   1. 'R'\n",
       "2. 'i'\n",
       "3. 'o'\n",
       "4. 'd'\n",
       "5. 'e'\n",
       "6. 'J'\n",
       "7. 'a'\n",
       "8. 'n'\n",
       "9. 'r'\n",
       "\n",
       "\n",
       "\n",
       "$`Cape Town`\n",
       ":   1. 'C'\n",
       "2. 'a'\n",
       "3. 'p'\n",
       "4. 'e'\n",
       "5. 'T'\n",
       "6. 'o'\n",
       "7. 'w'\n",
       "8. 'n'\n",
       "\n",
       "\n",
       "\n",
       "\n",
       "\n"
      ],
      "text/plain": [
       "$`New York`\n",
       "[1] \"N\" \"e\" \"w\" \"Y\" \"o\" \"r\" \"k\"\n",
       "\n",
       "$Paris\n",
       "[1] \"P\" \"a\" \"r\" \"i\" \"s\"\n",
       "\n",
       "$London\n",
       "[1] \"L\" \"o\" \"n\" \"d\"\n",
       "\n",
       "$Tokyo\n",
       "[1] \"T\" \"o\" \"k\" \"y\"\n",
       "\n",
       "$`Rio de Janeiro`\n",
       "[1] \"R\" \"i\" \"o\" \"d\" \"e\" \"J\" \"a\" \"n\" \"r\"\n",
       "\n",
       "$`Cape Town`\n",
       "[1] \"C\" \"a\" \"p\" \"e\" \"T\" \"o\" \"w\" \"n\"\n"
      ]
     },
     "metadata": {},
     "output_type": "display_data"
    },
    {
     "data": {
      "text/html": [
       "FALSE"
      ],
      "text/latex": [
       "FALSE"
      ],
      "text/markdown": [
       "FALSE"
      ],
      "text/plain": [
       "[1] FALSE"
      ]
     },
     "metadata": {},
     "output_type": "display_data"
    }
   ],
   "source": [
    "# simplify:输出结果按数组进行分组 \n",
    "# 有些结果 sapply 也无法简化\n",
    "unique_letters <- function(name) { \n",
    "    name <- gsub(\" \", \"\", name) \n",
    "    letters <- strsplit(name, split = \"\")[[1]] \n",
    "    unique(letters) \n",
    "  } \n",
    " unique_letters(\"London\") \n",
    "\n",
    "#当使用 lapply()\n",
    "lapply(cities,unique_letters)\n",
    "\n",
    "# 使用 sapply()\n",
    "sapply(cities,unique_letters)\n",
    "identical(lapply(cities,unique_letters),sapply(cities,unique_letters))"
   ]
  },
  {
   "cell_type": "markdown",
   "metadata": {},
   "source": [
    "## Vapply\n",
    "\n",
    "`vapply`类似于`sapply`，提供了`FUN.VALUE`参数，用来控制**返回值的行名**\n",
    "```r\n",
    "vapply(X, FUN, FUN.VALUE, ..., USE.NAMES = TRUE)\n",
    "```\n",
    "   - X:数组、矩阵、数据框\n",
    "   - FUN: 自定义的调用函数\n",
    "   - FUN.VALUE: 定义返回值的行名row.names\n",
    "   - …: 更多参数，可选\n",
    "   - USE.NAMES: 如果X为字符串，TRUE设置字符串为数据名，FALSE不设置\n"
   ]
  },
  {
   "cell_type": "markdown",
   "metadata": {},
   "source": [
    "#### sapply() vs. vapply()"
   ]
  },
  {
   "cell_type": "code",
   "execution_count": 43,
   "metadata": {},
   "outputs": [
    {
     "data": {
      "text/html": [
       "<dl class=dl-horizontal>\n",
       "\t<dt>New York</dt>\n",
       "\t\t<dd>8</dd>\n",
       "\t<dt>Paris</dt>\n",
       "\t\t<dd>5</dd>\n",
       "\t<dt>London</dt>\n",
       "\t\t<dd>6</dd>\n",
       "\t<dt>Tokyo</dt>\n",
       "\t\t<dd>5</dd>\n",
       "\t<dt>Rio de Janeiro</dt>\n",
       "\t\t<dd>14</dd>\n",
       "\t<dt>Cape Town</dt>\n",
       "\t\t<dd>9</dd>\n",
       "</dl>\n"
      ],
      "text/latex": [
       "\\begin{description*}\n",
       "\\item[New York] 8\n",
       "\\item[Paris] 5\n",
       "\\item[London] 6\n",
       "\\item[Tokyo] 5\n",
       "\\item[Rio de Janeiro] 14\n",
       "\\item[Cape Town] 9\n",
       "\\end{description*}\n"
      ],
      "text/markdown": [
       "New York\n",
       ":   8Paris\n",
       ":   5London\n",
       ":   6Tokyo\n",
       ":   5Rio de Janeiro\n",
       ":   14Cape Town\n",
       ":   9\n",
       "\n"
      ],
      "text/plain": [
       "      New York          Paris         London          Tokyo Rio de Janeiro \n",
       "             8              5              6              5             14 \n",
       "     Cape Town \n",
       "             9 "
      ]
     },
     "metadata": {},
     "output_type": "display_data"
    },
    {
     "data": {
      "text/html": [
       "<dl class=dl-horizontal>\n",
       "\t<dt>New York</dt>\n",
       "\t\t<dd>8</dd>\n",
       "\t<dt>Paris</dt>\n",
       "\t\t<dd>5</dd>\n",
       "\t<dt>London</dt>\n",
       "\t\t<dd>6</dd>\n",
       "\t<dt>Tokyo</dt>\n",
       "\t\t<dd>5</dd>\n",
       "\t<dt>Rio de Janeiro</dt>\n",
       "\t\t<dd>14</dd>\n",
       "\t<dt>Cape Town</dt>\n",
       "\t\t<dd>9</dd>\n",
       "</dl>\n"
      ],
      "text/latex": [
       "\\begin{description*}\n",
       "\\item[New York] 8\n",
       "\\item[Paris] 5\n",
       "\\item[London] 6\n",
       "\\item[Tokyo] 5\n",
       "\\item[Rio de Janeiro] 14\n",
       "\\item[Cape Town] 9\n",
       "\\end{description*}\n"
      ],
      "text/markdown": [
       "New York\n",
       ":   8Paris\n",
       ":   5London\n",
       ":   6Tokyo\n",
       ":   5Rio de Janeiro\n",
       ":   14Cape Town\n",
       ":   9\n",
       "\n"
      ],
      "text/plain": [
       "      New York          Paris         London          Tokyo Rio de Janeiro \n",
       "             8              5              6              5             14 \n",
       "     Cape Town \n",
       "             9 "
      ]
     },
     "metadata": {},
     "output_type": "display_data"
    }
   ],
   "source": [
    "# 例子 01\n",
    "cities <- c(\"New York\", \"Paris\", \"London\", \"Tokyo\", \n",
    "              \"Rio de Janeiro\", \"Cape Town\") \n",
    "# 使用 sapply\n",
    "sapply(cities,nchar)\n",
    "\n",
    "# 使用 vapply()\n",
    "vapply(cities, nchar,FUN.VALUE = numeric(1)) # "
   ]
  },
  {
   "cell_type": "code",
   "execution_count": 47,
   "metadata": {},
   "outputs": [
    {
     "data": {
      "text/html": [
       "<table>\n",
       "<thead><tr><th></th><th scope=col>New York</th><th scope=col>Paris</th><th scope=col>London</th><th scope=col>Tokyo</th><th scope=col>Rio de Janeiro</th><th scope=col>Cape Town</th></tr></thead>\n",
       "<tbody>\n",
       "\t<tr><th scope=row>first</th><td>e  </td><td>a  </td><td>d  </td><td>k  </td><td>a  </td><td>a  </td></tr>\n",
       "\t<tr><th scope=row>last</th><td>Y  </td><td>s  </td><td>o  </td><td>y  </td><td>R  </td><td>w  </td></tr>\n",
       "\t<tr><th scope=row>say</th><td>yes</td><td>yes</td><td>yes</td><td>yes</td><td>yes</td><td>yes</td></tr>\n",
       "</tbody>\n",
       "</table>\n"
      ],
      "text/latex": [
       "\\begin{tabular}{r|llllll}\n",
       "  & New York & Paris & London & Tokyo & Rio de Janeiro & Cape Town\\\\\n",
       "\\hline\n",
       "\tfirst & e   & a   & d   & k   & a   & a  \\\\\n",
       "\tlast & Y   & s   & o   & y   & R   & w  \\\\\n",
       "\tsay & yes & yes & yes & yes & yes & yes\\\\\n",
       "\\end{tabular}\n"
      ],
      "text/markdown": [
       "\n",
       "| <!--/--> | New York | Paris | London | Tokyo | Rio de Janeiro | Cape Town |\n",
       "|---|---|---|---|---|---|---|\n",
       "| first | e   | a   | d   | k   | a   | a   |\n",
       "| last | Y   | s   | o   | y   | R   | w   |\n",
       "| say | yes | yes | yes | yes | yes | yes |\n",
       "\n"
      ],
      "text/plain": [
       "      New York Paris London Tokyo Rio de Janeiro Cape Town\n",
       "first e        a     d      k     a              a        \n",
       "last  Y        s     o      y     R              w        \n",
       "say   yes      yes   yes    yes   yes            yes      "
      ]
     },
     "metadata": {},
     "output_type": "display_data"
    },
    {
     "data": {
      "text/html": [
       "<table>\n",
       "<thead><tr><th></th><th scope=col>New York</th><th scope=col>Paris</th><th scope=col>London</th><th scope=col>Tokyo</th><th scope=col>Rio de Janeiro</th><th scope=col>Cape Town</th></tr></thead>\n",
       "<tbody>\n",
       "\t<tr><th scope=row>first</th><td>e  </td><td>a  </td><td>d  </td><td>k  </td><td>a  </td><td>a  </td></tr>\n",
       "\t<tr><th scope=row>last</th><td>Y  </td><td>s  </td><td>o  </td><td>y  </td><td>R  </td><td>w  </td></tr>\n",
       "\t<tr><th scope=row>say</th><td>yes</td><td>yes</td><td>yes</td><td>yes</td><td>yes</td><td>yes</td></tr>\n",
       "</tbody>\n",
       "</table>\n"
      ],
      "text/latex": [
       "\\begin{tabular}{r|llllll}\n",
       "  & New York & Paris & London & Tokyo & Rio de Janeiro & Cape Town\\\\\n",
       "\\hline\n",
       "\tfirst & e   & a   & d   & k   & a   & a  \\\\\n",
       "\tlast & Y   & s   & o   & y   & R   & w  \\\\\n",
       "\tsay & yes & yes & yes & yes & yes & yes\\\\\n",
       "\\end{tabular}\n"
      ],
      "text/markdown": [
       "\n",
       "| <!--/--> | New York | Paris | London | Tokyo | Rio de Janeiro | Cape Town |\n",
       "|---|---|---|---|---|---|---|\n",
       "| first | e   | a   | d   | k   | a   | a   |\n",
       "| last | Y   | s   | o   | y   | R   | w   |\n",
       "| say | yes | yes | yes | yes | yes | yes |\n",
       "\n"
      ],
      "text/plain": [
       "      New York Paris London Tokyo Rio de Janeiro Cape Town\n",
       "first e        a     d      k     a              a        \n",
       "last  Y        s     o      y     R              w        \n",
       "say   yes      yes   yes    yes   yes            yes      "
      ]
     },
     "metadata": {},
     "output_type": "display_data"
    }
   ],
   "source": [
    "# 还是用上面那个 first_and_last 的例子\n",
    " first_and_last <- function(name) { \n",
    "    name <- gsub(\" \", \"\", name) \n",
    "    letters <- strsplit(name, split = \"\")[[1]] \n",
    "    return(c(first = min(letters), last = max(letters),say=\"yes\")) \n",
    "  }\n",
    "sapply(cities,first_and_last)\n",
    "\n",
    "# vapply\n",
    "vapply(cities,first_and_last,FUN.VALUE = character(3))\n",
    "# 这里会输出三个值（first,last,say）所以是character(3)\n",
    "# ？？？？actually i don't really get this "
   ]
  },
  {
   "cell_type": "code",
   "execution_count": 41,
   "metadata": {},
   "outputs": [],
   "source": [
    "?vapply\n"
   ]
  },
  {
   "cell_type": "code",
   "execution_count": 44,
   "metadata": {},
   "outputs": [],
   "source": [
    "?numeric"
   ]
  },
  {
   "cell_type": "code",
   "execution_count": null,
   "metadata": {},
   "outputs": [],
   "source": []
  }
 ],
 "metadata": {
  "kernelspec": {
   "display_name": "R",
   "language": "R",
   "name": "ir"
  },
  "language_info": {
   "codemirror_mode": "r",
   "file_extension": ".r",
   "mimetype": "text/x-r-source",
   "name": "R",
   "pygments_lexer": "r",
   "version": "3.6.1"
  }
 },
 "nbformat": 4,
 "nbformat_minor": 4
}
