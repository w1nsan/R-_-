{
 "cells": [
  {
   "cell_type": "markdown",
   "metadata": {},
   "source": [
    "# Conditionals and Control Flow 条件和控制流"
   ]
  },
  {
   "cell_type": "code",
   "execution_count": 1,
   "metadata": {},
   "outputs": [
    {
     "data": {
      "text/html": [
       "FALSE"
      ],
      "text/latex": [
       "FALSE"
      ],
      "text/markdown": [
       "FALSE"
      ],
      "text/plain": [
       "[1] FALSE"
      ]
     },
     "metadata": {},
     "output_type": "display_data"
    },
    {
     "data": {
      "text/html": [
       "FALSE"
      ],
      "text/latex": [
       "FALSE"
      ],
      "text/markdown": [
       "FALSE"
      ],
      "text/plain": [
       "[1] FALSE"
      ]
     },
     "metadata": {},
     "output_type": "display_data"
    },
    {
     "data": {
      "text/html": [
       "FALSE"
      ],
      "text/latex": [
       "FALSE"
      ],
      "text/markdown": [
       "FALSE"
      ],
      "text/plain": [
       "[1] FALSE"
      ]
     },
     "metadata": {},
     "output_type": "display_data"
    },
    {
     "data": {
      "text/html": [
       "TRUE"
      ],
      "text/latex": [
       "TRUE"
      ],
      "text/markdown": [
       "TRUE"
      ],
      "text/plain": [
       "[1] TRUE"
      ]
     },
     "metadata": {},
     "output_type": "display_data"
    },
    {
     "data": {
      "text/html": [
       "FALSE"
      ],
      "text/latex": [
       "FALSE"
      ],
      "text/markdown": [
       "FALSE"
      ],
      "text/plain": [
       "[1] FALSE"
      ]
     },
     "metadata": {},
     "output_type": "display_data"
    },
    {
     "data": {
      "text/html": [
       "TRUE"
      ],
      "text/latex": [
       "TRUE"
      ],
      "text/markdown": [
       "TRUE"
      ],
      "text/plain": [
       "[1] TRUE"
      ]
     },
     "metadata": {},
     "output_type": "display_data"
    },
    {
     "data": {
      "text/html": [
       "FALSE"
      ],
      "text/latex": [
       "FALSE"
      ],
      "text/markdown": [
       "FALSE"
      ],
      "text/plain": [
       "[1] FALSE"
      ]
     },
     "metadata": {},
     "output_type": "display_data"
    },
    {
     "data": {
      "text/html": [
       "TRUE"
      ],
      "text/latex": [
       "TRUE"
      ],
      "text/markdown": [
       "TRUE"
      ],
      "text/plain": [
       "[1] TRUE"
      ]
     },
     "metadata": {},
     "output_type": "display_data"
    }
   ],
   "source": [
    "#关系运算符\n",
    "#==================================\n",
    "# Comparison of logicals\n",
    "TRUE==FALSE\n",
    "\n",
    "# Comparison of numerics\n",
    "(-6*14)!=(17-101)\n",
    "\n",
    "# Comparison of character strings\n",
    "\"useR\"==\"user\"\n",
    "\n",
    "# Compare a logical with a numeric\n",
    "TRUE==1\n",
    "\n",
    "# Comparison of numerics\n",
    "(-6*5+2)>= (-10+1)\n",
    "\n",
    "# Comparison of character strings\n",
    "\"raining\" <= \"raining dogs\"\n",
    "\"user\" > \"useR\" # 小写字母大于大写字母\n",
    "\n",
    "# Comparison of logicals\n",
    "TRUE > FALSE\n",
    "\n"
   ]
  },
  {
   "cell_type": "markdown",
   "metadata": {},
   "source": [
    "Using relational operators, find a logical answer, i.e. TRUE or FALSE, for the following questions:\n",
    "\n",
    " - On which days did the number of LinkedIn profile views exceed 15?\n",
    " - When was your LinkedIn profile viewed only 5 times or fewer?\n",
    " - When was your LinkedIn profile visited more often than your Facebook profile?\n"
   ]
  },
  {
   "cell_type": "code",
   "execution_count": 2,
   "metadata": {},
   "outputs": [
    {
     "data": {
      "text/html": [
       "<ol class=list-inline>\n",
       "\t<li>TRUE</li>\n",
       "\t<li>FALSE</li>\n",
       "\t<li>FALSE</li>\n",
       "\t<li>FALSE</li>\n",
       "\t<li>FALSE</li>\n",
       "\t<li>TRUE</li>\n",
       "\t<li>FALSE</li>\n",
       "</ol>\n"
      ],
      "text/latex": [
       "\\begin{enumerate*}\n",
       "\\item TRUE\n",
       "\\item FALSE\n",
       "\\item FALSE\n",
       "\\item FALSE\n",
       "\\item FALSE\n",
       "\\item TRUE\n",
       "\\item FALSE\n",
       "\\end{enumerate*}\n"
      ],
      "text/markdown": [
       "1. TRUE\n",
       "2. FALSE\n",
       "3. FALSE\n",
       "4. FALSE\n",
       "5. FALSE\n",
       "6. TRUE\n",
       "7. FALSE\n",
       "\n",
       "\n"
      ],
      "text/plain": [
       "[1]  TRUE FALSE FALSE FALSE FALSE  TRUE FALSE"
      ]
     },
     "metadata": {},
     "output_type": "display_data"
    },
    {
     "data": {
      "text/html": [
       "<ol class=list-inline>\n",
       "\t<li>FALSE</li>\n",
       "\t<li>FALSE</li>\n",
       "\t<li>FALSE</li>\n",
       "\t<li>TRUE</li>\n",
       "\t<li>TRUE</li>\n",
       "\t<li>FALSE</li>\n",
       "\t<li>FALSE</li>\n",
       "</ol>\n"
      ],
      "text/latex": [
       "\\begin{enumerate*}\n",
       "\\item FALSE\n",
       "\\item FALSE\n",
       "\\item FALSE\n",
       "\\item TRUE\n",
       "\\item TRUE\n",
       "\\item FALSE\n",
       "\\item FALSE\n",
       "\\end{enumerate*}\n"
      ],
      "text/markdown": [
       "1. FALSE\n",
       "2. FALSE\n",
       "3. FALSE\n",
       "4. TRUE\n",
       "5. TRUE\n",
       "6. FALSE\n",
       "7. FALSE\n",
       "\n",
       "\n"
      ],
      "text/plain": [
       "[1] FALSE FALSE FALSE  TRUE  TRUE FALSE FALSE"
      ]
     },
     "metadata": {},
     "output_type": "display_data"
    },
    {
     "data": {
      "text/html": [
       "<ol class=list-inline>\n",
       "\t<li>FALSE</li>\n",
       "\t<li>TRUE</li>\n",
       "\t<li>TRUE</li>\n",
       "\t<li>FALSE</li>\n",
       "\t<li>FALSE</li>\n",
       "\t<li>TRUE</li>\n",
       "\t<li>FALSE</li>\n",
       "</ol>\n"
      ],
      "text/latex": [
       "\\begin{enumerate*}\n",
       "\\item FALSE\n",
       "\\item TRUE\n",
       "\\item TRUE\n",
       "\\item FALSE\n",
       "\\item FALSE\n",
       "\\item TRUE\n",
       "\\item FALSE\n",
       "\\end{enumerate*}\n"
      ],
      "text/markdown": [
       "1. FALSE\n",
       "2. TRUE\n",
       "3. TRUE\n",
       "4. FALSE\n",
       "5. FALSE\n",
       "6. TRUE\n",
       "7. FALSE\n",
       "\n",
       "\n"
      ],
      "text/plain": [
       "[1] FALSE  TRUE  TRUE FALSE FALSE  TRUE FALSE"
      ]
     },
     "metadata": {},
     "output_type": "display_data"
    }
   ],
   "source": [
    "# The linkedin and facebook vectors have already been created for you\n",
    "linkedin <- c(16, 9, 13, 5, 2, 17, 14)\n",
    "facebook <- c(17, 7, 5, 16, 8, 13, 14)\n",
    "\n",
    "# Popular days\n",
    "linkedin>15\n",
    "\n",
    "# Quiet days\n",
    "linkedin<=5\n",
    "\n",
    "# LinkedIn more popular than Facebook\n",
    "linkedin > facebook"
   ]
  },
  {
   "cell_type": "markdown",
   "metadata": {},
   "source": [
    "Using the relational operators you've learned so far, try to discover the following:\n",
    "\n",
    "-  When were the views exactly equal to 13? Use the views matrix to return a logical matrix.\n",
    "-  For which days were the number of views less than or equal to 14? Again, have R return a logical matrix.\n"
   ]
  },
  {
   "cell_type": "code",
   "execution_count": 3,
   "metadata": {},
   "outputs": [
    {
     "data": {
      "text/html": [
       "<table>\n",
       "<tbody>\n",
       "\t<tr><td>FALSE</td><td>FALSE</td><td> TRUE</td><td>FALSE</td><td>FALSE</td><td>FALSE</td><td>FALSE</td></tr>\n",
       "\t<tr><td>FALSE</td><td>FALSE</td><td>FALSE</td><td>FALSE</td><td>FALSE</td><td> TRUE</td><td>FALSE</td></tr>\n",
       "</tbody>\n",
       "</table>\n"
      ],
      "text/latex": [
       "\\begin{tabular}{lllllll}\n",
       "\t FALSE & FALSE &  TRUE & FALSE & FALSE & FALSE & FALSE\\\\\n",
       "\t FALSE & FALSE & FALSE & FALSE & FALSE &  TRUE & FALSE\\\\\n",
       "\\end{tabular}\n"
      ],
      "text/markdown": [
       "\n",
       "| FALSE | FALSE |  TRUE | FALSE | FALSE | FALSE | FALSE |\n",
       "| FALSE | FALSE | FALSE | FALSE | FALSE |  TRUE | FALSE |\n",
       "\n"
      ],
      "text/plain": [
       "     [,1]  [,2]  [,3]  [,4]  [,5]  [,6]  [,7] \n",
       "[1,] FALSE FALSE  TRUE FALSE FALSE FALSE FALSE\n",
       "[2,] FALSE FALSE FALSE FALSE FALSE  TRUE FALSE"
      ]
     },
     "metadata": {},
     "output_type": "display_data"
    },
    {
     "data": {
      "text/html": [
       "<table>\n",
       "<tbody>\n",
       "\t<tr><td>FALSE</td><td>TRUE </td><td>TRUE </td><td> TRUE</td><td>TRUE </td><td>FALSE</td><td>TRUE </td></tr>\n",
       "\t<tr><td>FALSE</td><td>TRUE </td><td>TRUE </td><td>FALSE</td><td>TRUE </td><td> TRUE</td><td>TRUE </td></tr>\n",
       "</tbody>\n",
       "</table>\n"
      ],
      "text/latex": [
       "\\begin{tabular}{lllllll}\n",
       "\t FALSE & TRUE  & TRUE  &  TRUE & TRUE  & FALSE & TRUE \\\\\n",
       "\t FALSE & TRUE  & TRUE  & FALSE & TRUE  &  TRUE & TRUE \\\\\n",
       "\\end{tabular}\n"
      ],
      "text/markdown": [
       "\n",
       "| FALSE | TRUE  | TRUE  |  TRUE | TRUE  | FALSE | TRUE  |\n",
       "| FALSE | TRUE  | TRUE  | FALSE | TRUE  |  TRUE | TRUE  |\n",
       "\n"
      ],
      "text/plain": [
       "     [,1]  [,2] [,3] [,4]  [,5] [,6]  [,7]\n",
       "[1,] FALSE TRUE TRUE  TRUE TRUE FALSE TRUE\n",
       "[2,] FALSE TRUE TRUE FALSE TRUE  TRUE TRUE"
      ]
     },
     "metadata": {},
     "output_type": "display_data"
    }
   ],
   "source": [
    "# The social data has been created for you\n",
    "linkedin <- c(16, 9, 13, 5, 2, 17, 14)\n",
    "facebook <- c(17, 7, 5, 16, 8, 13, 14)\n",
    "views <- matrix(c(linkedin, facebook), nrow = 2, byrow = TRUE)\n",
    "\n",
    "# When does views equal 13?\n",
    "views == 13\n",
    "\n",
    "# When is views less than or equal to 14?\n",
    "views <= 14"
   ]
  },
  {
   "cell_type": "markdown",
   "metadata": {},
   "source": [
    "### 逻辑运算符\n",
    " - & and &&\n",
    "\n",
    " - | or ||\n",
    "\n",
    " - ! Not"
   ]
  },
  {
   "cell_type": "markdown",
   "metadata": {},
   "source": [
    "Write R expressions to solve the following questions concerning the variable last:\n",
    "\n",
    "  - Is last under 5 or above 10?\n",
    "  - Is last between 15 and 20, excluding 15 but including 20?\n"
   ]
  },
  {
   "cell_type": "code",
   "execution_count": 4,
   "metadata": {},
   "outputs": [
    {
     "data": {
      "text/html": [
       "TRUE"
      ],
      "text/latex": [
       "TRUE"
      ],
      "text/markdown": [
       "TRUE"
      ],
      "text/plain": [
       "[1] TRUE"
      ]
     },
     "metadata": {},
     "output_type": "display_data"
    },
    {
     "data": {
      "text/html": [
       "FALSE"
      ],
      "text/latex": [
       "FALSE"
      ],
      "text/markdown": [
       "FALSE"
      ],
      "text/plain": [
       "[1] FALSE"
      ]
     },
     "metadata": {},
     "output_type": "display_data"
    }
   ],
   "source": [
    "# The linkedin and last variable are already defined for you\n",
    "linkedin <- c(16, 9, 13, 5, 2, 17, 14)\n",
    "last <- tail(linkedin, 1)\n",
    "\n",
    "# Is last under 5 or above 10?\n",
    "last<5 | last >10\n",
    "\n",
    "# Is last between 15 (exclusive) and 20 (inclusive)?\n",
    "last>15 & last<=20"
   ]
  },
  {
   "cell_type": "code",
   "execution_count": 5,
   "metadata": {},
   "outputs": [
    {
     "ename": "ERROR",
     "evalue": "Error in eval(expr, envir, enclos): 找不到对象'li_df'\n",
     "output_type": "error",
     "traceback": [
      "Error in eval(expr, envir, enclos): 找不到对象'li_df'\nTraceback:\n"
     ]
    }
   ],
   "source": [
    "# li_df is pre-loaded in your workspace\n",
    "\n",
    "# Select the second column, named day2, from li_df: second\n",
    "second<- li_df$day2\n",
    "\n",
    "# Build a logical vector, TRUE if value in second is extreme: extremes\n",
    "extremes<- second> 25|second<5\n",
    "\n",
    "# Count the number of TRUEs in extremes\n",
    "sum(extremes) #sum函数会直接统计TRUE的数量；"
   ]
  },
  {
   "cell_type": "markdown",
   "metadata": {},
   "source": [
    "## conditional statement 条件语句\n",
    "\n",
    "### if statement （if语句）\n",
    "\n",
    "```r\n",
    "if(条件设置）{\n",
    "    条件满足时执行的操作}\n",
    "```\n",
    "举例说明：\n",
    "```r\n",
    "x<- -3\n",
    "if(x < 0){     \n",
    "    print(\"x is a negative number\")\n",
    "}\n",
    "```\n",
    "当 x 满足条件时，R就会输出结果:x is a negative number;\n",
    "\n",
    "当 x 不满足条件时，R就不会输出.如果需要不满足条件时执行其他操作，就要加上`else`语句；\n",
    "\n",
    "### else statement (else语句)\n",
    "\n",
    "```r\n",
    "if(条件设置）{\n",
    "    满足时执行操作1} else {\n",
    "    不满足时执行操作2}\n",
    "\n",
    "x<- 5\n",
    "if(x < 0){     \n",
    "    print(\"x is a negative number\")}else{\n",
    "    print(\"x is either a positive number or a zero\")}\n",
    "```\n",
    "根据x的赋值我们可以知道，此时R执行的是**else**里的操作：x is either a positive number or a zero\n",
    "\n",
    "### else if statement (else-if 语句）\n",
    "\n",
    "当你需要设置多个条件的操作时，就要用`else-if`语句:\n",
    "```r\n",
    "if(条件1）{\n",
    "    满足条件1时执行操作1} else if (条件2） {\n",
    "    不满足条件1，满足条件2执行操作2} else { \n",
    "    不满足条件2 执行操作3} \n",
    "```\n",
    "举例说明：\n",
    "```r\n",
    "x<-(-3)\n",
    "if(x<0){\n",
    "    print(\"x is a negative number\")} else if (x ==0){\n",
    "    print(\"x is zero\")}else{\n",
    "    print(\"x is a positive number\")}\n",
    "```\n",
    "当输入的值同时满足条件1和条件2时，按照**逻辑顺序**，当然会执行**第一个操作**；\n",
    "```r\n",
    "x <- 6 \n",
    "if(x %% 2 == 0) {\n",
    "    print(\"divisible by 2\")   } else if(x %% 3 == 0) {     \n",
    "    print(\"divisible by 3\")  } else {\n",
    "    print(\"not divisible by 2 nor by 3...\")  } \n",
    "    \n",
    "[1] \"divisible by 2\" # 系统给出的结果\n",
    "```\n"
   ]
  },
  {
   "cell_type": "code",
   "execution_count": null,
   "metadata": {},
   "outputs": [],
   "source": [
    "####=================\n",
    "#   练习\n",
    "#====================\n",
    "# Variables related to your last day of recordings\n",
    "medium <- \"LinkedIn\"\n",
    "num_views <- 14\n",
    "\n",
    "# Examine the if statement for medium\n",
    "if (medium == \"LinkedIn\") {\n",
    "  print(\"Showing LinkedIn information\")\n",
    "}\n",
    "\n",
    "# Write the if statement for num_views\n",
    "if (num_views> 15){\n",
    "  print(\"You are popular!\")\n",
    "}\n",
    "\n",
    "# Control structure for medium\n",
    "if (medium == \"LinkedIn\") {\n",
    "  print(\"Showing LinkedIn information\")\n",
    "}else{\n",
    "  print(\"Unknown medium\")\n",
    "}\n",
    "\n",
    "# Control structure for num_views\n",
    "if (num_views > 15) {\n",
    "  print(\"You're popular!\")\n",
    "}else{\n",
    "  print(\"Try to be more visible\")\n",
    "}\n",
    "\n",
    "# Variables related to your last day of recordings\n",
    "li <- 15\n",
    "fb <- 9\n",
    "\n",
    "# Code the control-flow construct\n",
    "if (li>=15 & fb>=15) {\n",
    "  sms <- 2 * (li + fb)\n",
    "} else if (li<10&fb<10) {\n",
    "  sms <- 0.5 * (li + fb)\n",
    "} else {\n",
    "  sms <- li+fb\n",
    "}\n",
    "sms"
   ]
  },
  {
   "cell_type": "markdown",
   "metadata": {},
   "source": [
    "### while loop\n",
    "\n",
    "`while`与`if`语句不同在于，`while`语句是一个循环语句：操作会**一直**执行直到给定的值**不满足条件**\n",
    "\n",
    "```r\n",
    "while(判断条件）{\n",
    "    满足的话执行操作}\n",
    "```\n",
    "举例说明：\n",
    "```r\n",
    "# an infinite while loop\n",
    "ctr<- 1   #设定初始值是1\n",
    "while(ctr <= 7){\n",
    "    print(paste(\"ctr is set to\",ctr))} #当ctr满足条件时，会执行打印功能\n",
    "\n",
    "```\n",
    "在这个语句中，因为ctr一直都是1，没有变化，所以就会一直满足条件，执行操作。这样整个系统就会陷入**死循环**。\n",
    "\n",
    "语句改进：\n",
    "```r\n",
    "ctr<- 1\n",
    "while(ctr<=7){\n",
    "    print(paste(\"crt is set to\",ctr))\n",
    "    ctr<- ctr+1 #每执行一次操作ctr+1\n",
    " }\n",
    "#这个语句在第7次操作时就会跳出循环，因为此时ctr=8,不再满足条件；\n",
    "[1] \"ctr is set to 1\" \n",
    "[1] \"ctr is set to 2\" \n",
    "...\n",
    "[1] \"ctr is set to 7\"\n",
    "```\n"
   ]
  },
  {
   "cell_type": "markdown",
   "metadata": {},
   "source": [
    "#### break statement break语句\n",
    "\n",
    "```r\n",
    "ctr<- 1\n",
    "while(ctr<= 7){\n",
    "    if(ctr %% 5 ==0){\n",
    "        break} #当ctr是5的倍数，就会停止这个while循环\n",
    "    print(paste(\"ctr is set to \",ctr))\n",
    "    ctr<- ctr+1\n",
    "}\n",
    "```\n"
   ]
  },
  {
   "cell_type": "code",
   "execution_count": 4,
   "metadata": {},
   "outputs": [
    {
     "ename": "ERROR",
     "evalue": "Error in parse(text = x, srcfile = src): <text>:44:0: unexpected end of input\n42:   if (speed > 48) {\n43:     print(\"Slow down big time!\")\n   ^\n",
     "output_type": "error",
     "traceback": [
      "Error in parse(text = x, srcfile = src): <text>:44:0: unexpected end of input\n42:   if (speed > 48) {\n43:     print(\"Slow down big time!\")\n   ^\nTraceback:\n"
     ]
    }
   ],
   "source": [
    "#==================\n",
    "#  练习\n",
    "#==================\n",
    "# Initialize the speed variable\n",
    "speed <- 64\n",
    "\n",
    "# Code the while loop\n",
    "while (speed > 30 ) {\n",
    "  print(\"Slow down!\")\n",
    "  speed <- speed - 7\n",
    "}\n",
    "\n",
    "# Print out the speed variable\n",
    "speed\n",
    "\n",
    "# Initialize the speed variable\n",
    "speed <- 64\n",
    "\n",
    "# Extend/adapt the while loop\n",
    "while (speed > 30) {\n",
    "  print(paste(\"Your speed is\",speed))\n",
    "  if (speed > 48){\n",
    "    print(\"Slow down big time!\")\n",
    "    speed<- speed-11\n",
    "  } else {\n",
    "    print(\"Slow down!\")\n",
    "    speed<- speed - 6\n",
    "  }\n",
    "}\n",
    "# break statement\n",
    "# Initialize the speed variable\n",
    "speed <- 88\n",
    "\n",
    "while (speed > 30) {\n",
    "  print(paste(\"Your speed is\", speed))\n",
    "  \n",
    "  # Break the while loop when speed exceeds 80\n",
    "  if (speed>80 ) {\n",
    "    break\n",
    "  }\n",
    "  \n",
    "  if (speed > 48) {\n",
    "    print(\"Slow down big time!\")"
   ]
  },
  {
   "cell_type": "markdown",
   "metadata": {},
   "source": [
    "### For loop for语句\n",
    "\n",
    "\n",
    "```r\n",
    "for (var in seq){\n",
    "    expr\n",
    "}\n",
    "# var 是你自己设的一个变量，它会从你给定的seq里一个个元素读取下去\n",
    "```"
   ]
  },
  {
   "cell_type": "code",
   "execution_count": 8,
   "metadata": {},
   "outputs": [
    {
     "name": "stdout",
     "output_type": "stream",
     "text": [
      "[1] \"New York\"\n",
      "[1] \"Paris\"\n",
      "[1] \"London\"\n",
      "[1] \"Tokyo\"\n",
      "[1] \"Rio de Janeiro\"\n",
      "[1] \"Cape Town\"\n"
     ]
    }
   ],
   "source": [
    "#举例说明：\n",
    "\n",
    "cities <- c(\"New York\", \"Paris\", \"London\", \"Tokyo\", \"Rio de Janeiro\", \"Cape Town\")\n",
    "for (city in cities){\n",
    " print(city)}\n",
    "# 执行打印操作"
   ]
  },
  {
   "cell_type": "markdown",
   "metadata": {},
   "source": [
    "#### break statement"
   ]
  },
  {
   "cell_type": "code",
   "execution_count": 12,
   "metadata": {},
   "outputs": [
    {
     "name": "stdout",
     "output_type": "stream",
     "text": [
      "[1] \"New York\"\n",
      "[1] \"Paris\"\n"
     ]
    }
   ],
   "source": [
    "cities <- c(\"New York\", \"Paris\", \"London\", \"Tokyo\", \"Rio de Janeiro\", \"Cape Town\")\n",
    "for (city in cities){\n",
    "    if(nchar(city) ==6){\n",
    "        break\n",
    "    }\n",
    "    print(city)\n",
    "}\n",
    "\n",
    "# 当运行到city=London时，满足if里的条件，所以整个for语句会 abandon"
   ]
  },
  {
   "cell_type": "markdown",
   "metadata": {},
   "source": [
    "#### next statement"
   ]
  },
  {
   "cell_type": "code",
   "execution_count": 13,
   "metadata": {},
   "outputs": [
    {
     "name": "stdout",
     "output_type": "stream",
     "text": [
      "[1] \"New York\"\n",
      "[1] \"Paris\"\n",
      "[1] \"Tokyo\"\n",
      "[1] \"Rio de Janeiro\"\n",
      "[1] \"Cape Town\"\n"
     ]
    }
   ],
   "source": [
    "cities <- c(\"New York\", \"Paris\", \"London\", \"Tokyo\", \"Rio de Janeiro\", \"Cape Town\")\n",
    "for (city in cities){\n",
    "    if(nchar(city) ==6){\n",
    "        next # 当循环到london时，符合条件，所以直接跳到下一个迭代（iteration）；\n",
    "    }\n",
    "    print(city)\n",
    "}\n",
    "# 结果里没有london"
   ]
  },
  {
   "cell_type": "code",
   "execution_count": 17,
   "metadata": {},
   "outputs": [
    {
     "name": "stdout",
     "output_type": "stream",
     "text": [
      "[1] \"New York is on position 1 in the cities vector.\"\n",
      "[1] \"Paris is on position 2 in the cities vector.\"\n",
      "[1] \"London is on position 3 in the cities vector.\"\n",
      "[1] \"Tokyo is on position 4 in the cities vector.\"\n",
      "[1] \"Rio de Janeiro is on position 5 in the cities vector.\"\n",
      "[1] \"Cape Town is on position 6 in the cities vector.\"\n"
     ]
    }
   ],
   "source": [
    "# for loop的其他写法：\n",
    "cities <- c(\"New York\", \"Paris\", \"London\", \"Tokyo\", \"Rio de Janeiro\", \"Cape Town\")\n",
    "for (i in 1:length(cities)){\n",
    "    print(paste(cities[i], \"is on position\", i, \"in the cities vector.\"))\n",
    "    }"
   ]
  },
  {
   "cell_type": "code",
   "execution_count": null,
   "metadata": {},
   "outputs": [],
   "source": [
    "# ===========================\n",
    "#  练习\n",
    "# ===========================\n",
    "# The linkedin vector has already been defined for you\n",
    "linkedin <- c(16, 9, 13, 5, 2, 17, 14)\n",
    "\n",
    "# Loop version 1\n",
    "for(link in linkedin){\n",
    "  print (link)\n",
    "}\n",
    "\n",
    "# Loop version 2\n",
    "for(link in 1:length(linkedin)){\n",
    "  print(linkedin[link])\n",
    "}\n"
   ]
  },
  {
   "cell_type": "markdown",
   "metadata": {},
   "source": [
    "当对象是 list时要注意：\n",
    "```r\n",
    "primes_list <- list(2, 3, 5, 7, 11, 13)\n",
    "\n",
    "# loop version 1\n",
    "for (p in primes_list) {\n",
    "  print(p)\n",
    "}\n",
    "\n",
    "# loop version 2\n",
    "for (i in 1:length(primes_list)) {\n",
    "  print(primes_list[[i]])\n",
    "}\n",
    "```\n",
    "Notice that you need double square brackets -` [[ ]] `- to select the list elements in loop version 2.\n",
    "\n",
    "Suppose you have a list of all sorts of information on New York City: its population size, the names of the boroughs, and whether it is the capital of the United States. We've already prepared a list` nyc` with all this information in the editor"
   ]
  },
  {
   "cell_type": "code",
   "execution_count": 18,
   "metadata": {},
   "outputs": [
    {
     "name": "stdout",
     "output_type": "stream",
     "text": [
      "[1] 8405837\n",
      "[1] \"Manhattan\"     \"Bronx\"         \"Brooklyn\"      \"Queens\"       \n",
      "[5] \"Staten Island\"\n",
      "[1] FALSE\n",
      "[1] 8405837\n",
      "[1] \"Manhattan\"     \"Bronx\"         \"Brooklyn\"      \"Queens\"       \n",
      "[5] \"Staten Island\"\n",
      "[1] FALSE\n"
     ]
    }
   ],
   "source": [
    "# The nyc list is already specified\n",
    "nyc <- list(pop = 8405837, \n",
    "            boroughs = c(\"Manhattan\", \"Bronx\", \"Brooklyn\", \"Queens\", \"Staten Island\"), \n",
    "            capital = FALSE)\n",
    "\n",
    "# Loop version 1\n",
    "for(n in nyc){\n",
    "  print(n)\n",
    "}\n",
    "\n",
    "\n",
    "\n",
    "# Loop version 2\n",
    "for(n in 1:length(nyc)){\n",
    "  print(nyc[[n]])\n",
    "  }"
   ]
  },
  {
   "cell_type": "markdown",
   "metadata": {},
   "source": [
    "#### 多个for循环的嵌套\n",
    "\n",
    "当有大于1个for语句时，要注意区分**内外层**的迭代顺序；\n",
    "```r\n",
    "for (var1 in seq1) {\n",
    "  for (var2 in seq2) { # 内层的迭代完成后才能开始外层的迭代\n",
    "    expr\n",
    "  }\n",
    "}\n",
    "```\n",
    "\n",
    "举例说明：\n",
    "Finish the nested for loops to go over the elements in `ttt`:\n",
    " - The outer loop should loop over the rows, with loop index `i `(use `1:nrow(ttt)`).\n",
    " - The inner loop should loop over the columns, with loop index `j` (use `1:ncol(ttt)`).\n",
    " - Inside the inner loop, make use of` print() `and `paste() `to print out information in the following format: \"On row i and column j the board contains x\", where `x` is the value on that position.\n"
   ]
  },
  {
   "cell_type": "code",
   "execution_count": 19,
   "metadata": {},
   "outputs": [
    {
     "name": "stdout",
     "output_type": "stream",
     "text": [
      "[1] \"On row 1 and column 1 the board contains O\"\n",
      "[1] \"On row 1 and column 2 the board contains NA\"\n",
      "[1] \"On row 1 and column 3 the board contains X\"\n",
      "[1] \"On row 2 and column 1 the board contains NA\"\n",
      "[1] \"On row 2 and column 2 the board contains O\"\n",
      "[1] \"On row 2 and column 3 the board contains O\"\n",
      "[1] \"On row 3 and column 1 the board contains X\"\n",
      "[1] \"On row 3 and column 2 the board contains NA\"\n",
      "[1] \"On row 3 and column 3 the board contains X\"\n"
     ]
    }
   ],
   "source": [
    "# The tic-tac-toe matrix ttt has already been defined for you\n",
    "ttt<-cbind(c(\"O\",\"NA\",\"X\"),c(\"NA\",\"O\",\"NA\"),c(\"X\",\"O\",\"X\"))\n",
    "# define the double for loop\n",
    "for (i in 1:nrow(ttt)){\n",
    "  for (j in 1:ncol(ttt)){\n",
    "    print(paste(\"On row\",i,\"and column\",j,\"the board contains\",ttt[i,j]))\n",
    "  }\n",
    "}"
   ]
  },
  {
   "cell_type": "markdown",
   "metadata": {},
   "source": [
    "可以看到结果显示，当 i=1 时，进入内层迭代 j = 1，执行操作，完毕后**继续迭代 j**。直到 j 完成后再返回外层，执行 i=2 的操作"
   ]
  },
  {
   "cell_type": "code",
   "execution_count": 20,
   "metadata": {},
   "outputs": [
    {
     "name": "stdout",
     "output_type": "stream",
     "text": [
      "[1] \"You're popular!\"\n",
      "[1] 16\n",
      "[1] \"Be more visible\"\n",
      "[1] 9\n",
      "[1] \"You're popular!\"\n",
      "[1] 13\n",
      "[1] \"Be more visible\"\n",
      "[1] 5\n",
      "[1] \"Be more visible\"\n",
      "[1] 2\n",
      "[1] \"You're popular!\"\n",
      "[1] 17\n",
      "[1] \"You're popular!\"\n",
      "[1] 14\n"
     ]
    }
   ],
   "source": [
    "# The linkedin vector has already been defined for you\n",
    "linkedin <- c(16, 9, 13, 5, 2, 17, 14)\n",
    "\n",
    "# Code the for loop with conditionals\n",
    "for (li in linkedin) {\n",
    "  if (li > 10 ) {\n",
    "    print(\"You're popular!\")\n",
    "  } else {\n",
    "    print(\"Be more visible\")\n",
    "  }\n",
    "  print(li)\n",
    "}"
   ]
  },
  {
   "cell_type": "code",
   "execution_count": null,
   "metadata": {},
   "outputs": [],
   "source": [
    "# 多种控制流程\n",
    "# The linkedin vector has already been defined for you\n",
    "linkedin <- c(16, 9, 13, 5, 2, 17, 14)\n",
    "\n",
    "# Adapt/extend the for loop\n",
    "for (li in linkedin) {\n",
    "  if (li > 10) {\n",
    "    print(\"You're popular!\")\n",
    "  } else {\n",
    "    print(\"Be more visible!\")\n",
    "  }\n",
    "  \n",
    "  # Add if statement with break\n",
    "  if(li > 16){\n",
    "    print(\"This is ridiculous,I'm outta here!\")\n",
    "   break\n",
    "  }\n",
    "  \n",
    "  # Add if statement with next\n",
    "  if(li< 5){\n",
    "    print(\"This is too embarrassing!\")\n",
    "    next\n",
    "  }\n",
    "  \n",
    "  print(li)\n",
    "}"
   ]
  },
  {
   "cell_type": "markdown",
   "metadata": {},
   "source": [
    "In the editor on the right, we already went ahead and defined a variable `rquote`. \n",
    "\n",
    "This variable has been split up into a vector that contains separate letters and has been stored in a vector `chars` with the `strsplit()` function.\n",
    "\n",
    "Can you write code that counts the number of` r's` that come before the first` u `in `rquote`?"
   ]
  },
  {
   "cell_type": "code",
   "execution_count": 21,
   "metadata": {},
   "outputs": [
    {
     "name": "stdout",
     "output_type": "stream",
     "text": [
      "[1] 5\n"
     ]
    }
   ],
   "source": [
    " # Pre-defined variables\n",
    "rquote <- \"r's internals are irrefutably intriguing\"\n",
    "chars <- strsplit(rquote, split = \"\")[[1]] # strsplit输出一个list,可以用 unlist()函数来改变数据类型\n",
    "\n",
    "# Initialize rcount\n",
    "rcount <-0\n",
    "\n",
    "# Finish the for loop\n",
    "for (char in chars) {\n",
    "  if(char==\"r\"){\n",
    "    rcount<-rcount+1\n",
    "  }\n",
    "  else if(char==\"u\"){\n",
    "    break\n",
    "  }\n",
    "  \n",
    "}\n",
    "\n",
    "# Print out rcount\n",
    "print(rcount)\n"
   ]
  },
  {
   "cell_type": "code",
   "execution_count": null,
   "metadata": {},
   "outputs": [],
   "source": []
  }
 ],
 "metadata": {
  "kernelspec": {
   "display_name": "R",
   "language": "R",
   "name": "ir"
  },
  "language_info": {
   "codemirror_mode": "r",
   "file_extension": ".r",
   "mimetype": "text/x-r-source",
   "name": "R",
   "pygments_lexer": "r",
   "version": "3.6.1"
  }
 },
 "nbformat": 4,
 "nbformat_minor": 4
}
