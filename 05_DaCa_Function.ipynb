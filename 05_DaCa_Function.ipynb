{
 "cells": [
  {
   "cell_type": "markdown",
   "metadata": {},
   "source": [
    "# Function\n",
    "\n",
    "在下列函数中：\n",
    "```r\n",
    "sd(x,na.rm=FALSE)\n",
    "# na.rm that specified whether or not to remove missing values from the input vector before calculating the standard deviation.\n",
    "```\n",
    "###  How does the argument match?参数是如何配对的\n",
    "对于第一个参数：\n",
    " - by position位置 : sd( value ) the `value` is in the first position,so R assign `value` to `x`；\n",
    " - by name 命名：sd( x= value ) 直接命名给`x`；\n",
    " \n",
    "同理，对于第二个参数的配对也可以用这两种方法：\n",
    " - by position:sd( value, TRUE ) R直接将第二个值赋予给第二个参数 `na.rm`;\n",
    " - by name :sd( value, na.rm = TRUE ) 这里接是直接命名；\n",
    "\n",
    "对于没有设置 `default`的参数，如果在调用函数时不赋值，就会**报错**，比如:sd()\n",
    "\n",
    "设置有默认值的参数称为：**可选参数**` optional argument`\n"
   ]
  },
  {
   "cell_type": "code",
   "execution_count": 4,
   "metadata": {},
   "outputs": [
    {
     "data": {
      "text/html": [
       "<pre class=language-r><code>function (x, na.rm = FALSE) \n",
       "NULL</code></pre>"
      ],
      "text/latex": [
       "\\begin{minted}{r}\n",
       "function (x, na.rm = FALSE) \n",
       "NULL\n",
       "\\end{minted}"
      ],
      "text/markdown": [
       "```r\n",
       "function (x, na.rm = FALSE) \n",
       "NULL\n",
       "```"
      ],
      "text/plain": [
       "function (x, na.rm = FALSE) \n",
       "NULL"
      ]
     },
     "metadata": {},
     "output_type": "display_data"
    },
    {
     "data": {
      "text/html": [
       "<pre class=language-r><code>function (x, ...) \n",
       "NULL</code></pre>"
      ],
      "text/latex": [
       "\\begin{minted}{r}\n",
       "function (x, ...) \n",
       "NULL\n",
       "\\end{minted}"
      ],
      "text/markdown": [
       "```r\n",
       "function (x, ...) \n",
       "NULL\n",
       "```"
      ],
      "text/plain": [
       "function (x, ...) \n",
       "NULL"
      ]
     },
     "metadata": {},
     "output_type": "display_data"
    },
    {
     "data": {
      "text/html": [
       "<pre class=language-r><code>function (name, pos = -1L, envir = as.environment(pos), all.names = FALSE, \n",
       "<span style=white-space:pre-wrap>    pattern, sorted = TRUE) </span>\n",
       "NULL</code></pre>"
      ],
      "text/latex": [
       "\\begin{minted}{r}\n",
       "function (name, pos = -1L, envir = as.environment(pos), all.names = FALSE, \n",
       "    pattern, sorted = TRUE) \n",
       "NULL\n",
       "\\end{minted}"
      ],
      "text/markdown": [
       "```r\n",
       "function (name, pos = -1L, envir = as.environment(pos), all.names = FALSE, \n",
       "    pattern, sorted = TRUE) \n",
       "NULL\n",
       "```"
      ],
      "text/plain": [
       "function (name, pos = -1L, envir = as.environment(pos), all.names = FALSE, \n",
       "    pattern, sorted = TRUE) \n",
       "NULL"
      ]
     },
     "metadata": {},
     "output_type": "display_data"
    }
   ],
   "source": [
    "# 使用函数 args( )可以查看其他函数的参数设置;\n",
    "args(sd)\n",
    "args(mean)\n",
    "args(ls)"
   ]
  },
  {
   "cell_type": "code",
   "execution_count": 5,
   "metadata": {},
   "outputs": [
    {
     "data": {
      "text/html": [
       "<pre class=language-r><code>function (x, ...) \n",
       "NULL</code></pre>"
      ],
      "text/latex": [
       "\\begin{minted}{r}\n",
       "function (x, ...) \n",
       "NULL\n",
       "\\end{minted}"
      ],
      "text/markdown": [
       "```r\n",
       "function (x, ...) \n",
       "NULL\n",
       "```"
      ],
      "text/plain": [
       "function (x, ...) \n",
       "NULL"
      ]
     },
     "metadata": {},
     "output_type": "display_data"
    },
    {
     "data": {
      "text/html": [
       "10.8571428571429"
      ],
      "text/latex": [
       "10.8571428571429"
      ],
      "text/markdown": [
       "10.8571428571429"
      ],
      "text/plain": [
       "[1] 10.85714"
      ]
     },
     "metadata": {},
     "output_type": "display_data"
    },
    {
     "data": {
      "text/html": [
       "11.4285714285714"
      ],
      "text/latex": [
       "11.4285714285714"
      ],
      "text/markdown": [
       "11.4285714285714"
      ],
      "text/plain": [
       "[1] 11.42857"
      ]
     },
     "metadata": {},
     "output_type": "display_data"
    },
    {
     "data": {
      "text/html": [
       "10.8571428571429"
      ],
      "text/latex": [
       "10.8571428571429"
      ],
      "text/markdown": [
       "10.8571428571429"
      ],
      "text/plain": [
       "[1] 10.85714"
      ]
     },
     "metadata": {},
     "output_type": "display_data"
    },
    {
     "data": {
      "text/html": [
       "11.4285714285714"
      ],
      "text/latex": [
       "11.4285714285714"
      ],
      "text/markdown": [
       "11.4285714285714"
      ],
      "text/plain": [
       "[1] 11.42857"
      ]
     },
     "metadata": {},
     "output_type": "display_data"
    }
   ],
   "source": [
    "#===========\n",
    "#  练习\n",
    "#===========\n",
    "# Consult the documentation on the mean() function 调取文档查看\n",
    "?mean()\n",
    "# Inspect the arguments of the mean() function 直接查看参数\n",
    "args(mean)\n",
    "\n",
    "# The linkedin and facebook vectors have already been created for you\n",
    "linkedin <- c(16, 9, 13, 5, 2, 17, 14)\n",
    "facebook <- c(17, 7, 5, 16, 8, 13, 14)\n",
    "\n",
    "# Calculate average number of views\n",
    "avg_li1<- mean(x=linkedin) # by name\n",
    "avg_fb1<- mean(x=facebook)\n",
    "avg_li2<- mean(linkedin) # by position\n",
    "avg_fb2<- mean(facebook)\n",
    "\n",
    "# Inspect avg_li and avg_fb\n",
    "avg_li1\n",
    "avg_fb1\n",
    "avg_li2\n",
    "avg_fb2"
   ]
  },
  {
   "cell_type": "markdown",
   "metadata": {},
   "source": [
    "根据功能查询，我们发现`mean()`函数有两种用法：\n",
    "```r\n",
    "mean(x, ...) # 第一种\n",
    "mean(x, trim = 0, na.rm = FALSE, ...) # 第二种\n",
    "```"
   ]
  },
  {
   "cell_type": "code",
   "execution_count": 15,
   "metadata": {},
   "outputs": [
    {
     "data": {
      "text/html": [
       "22.2857142857143"
      ],
      "text/latex": [
       "22.2857142857143"
      ],
      "text/markdown": [
       "22.2857142857143"
      ],
      "text/plain": [
       "[1] 22.28571"
      ]
     },
     "metadata": {},
     "output_type": "display_data"
    },
    {
     "data": {
      "text/html": [
       "22.6"
      ],
      "text/latex": [
       "22.6"
      ],
      "text/markdown": [
       "22.6"
      ],
      "text/plain": [
       "[1] 22.6"
      ]
     },
     "metadata": {},
     "output_type": "display_data"
    },
    {
     "data": {
      "text/html": [
       "&lt;NA&gt;"
      ],
      "text/latex": [
       "<NA>"
      ],
      "text/markdown": [
       "&lt;NA&gt;"
      ],
      "text/plain": [
       "[1] NA"
      ]
     },
     "metadata": {},
     "output_type": "display_data"
    },
    {
     "data": {
      "text/html": [
       "12.3333333333333"
      ],
      "text/latex": [
       "12.3333333333333"
      ],
      "text/markdown": [
       "12.3333333333333"
      ],
      "text/plain": [
       "[1] 12.33333"
      ]
     },
     "metadata": {},
     "output_type": "display_data"
    }
   ],
   "source": [
    "# The linkedin and facebook vectors have already been created for you\n",
    "linkedin <- c(16, 9, 13, 5, 2, 17, 14)\n",
    "facebook <- c(17, 7, 5, 16, 8, 13, 14)\n",
    "\n",
    "# Calculate the mean of the sum\n",
    "avg_sum<-mean(linkedin + facebook)\n",
    "\n",
    "# Calculate the trimmed mean of the sum\n",
    "avg_sum_trimmed<- mean(linkedin + facebook,trim = 0.2)\n",
    "\n",
    "# Inspect both new variables\n",
    "avg_sum\n",
    "avg_sum_trimmed\n",
    "\n",
    "## 是否去处缺失值？\n",
    "# The linkedin and facebook vectors have already been created for you\n",
    "linkedin <- c(16, 9, 13, 5, NA, 17, 14)\n",
    "facebook <- c(17, NA, 5, 16, 8, 13, 14)\n",
    "\n",
    "# Basic average of linkedin 不去掉缺失值\n",
    "mean(linkedin) \n",
    "\n",
    "# Advanced average of linkedin 计算前把缺失值去掉\n",
    "mean(linkedin,na.rm= TRUE)"
   ]
  },
  {
   "cell_type": "code",
   "execution_count": 16,
   "metadata": {},
   "outputs": [
    {
     "data": {
      "text/html": [
       "4.8"
      ],
      "text/latex": [
       "4.8"
      ],
      "text/markdown": [
       "4.8"
      ],
      "text/plain": [
       "[1] 4.8"
      ]
     },
     "metadata": {},
     "output_type": "display_data"
    }
   ],
   "source": [
    "# Functions inside functions\n",
    "# The linkedin and facebook vectors have already been created for you\n",
    "linkedin <- c(16, 9, 13, 5, NA, 17, 14)\n",
    "facebook <- c(17, NA, 5, 16, 8, 13, 14)\n",
    "\n",
    "# Calculate the mean absolute deviation\n",
    "mean(abs(linkedin - facebook),na.rm=TRUE)\n"
   ]
  },
  {
   "cell_type": "markdown",
   "metadata": {},
   "source": [
    "### 函数里的省略号 `...`"
   ]
  },
  {
   "cell_type": "markdown",
   "metadata": {},
   "source": [
    "在查看函数功能的时候，可以发现有些函数的参数设置是省略号 ```...```\n",
    "```r\n",
    "paste (…, sep = \" \", collapse = NULL)\n",
    "paste0(…, collapse = NULL)\n",
    "print(x, …)\n",
    "mean(x, …)\n",
    "```\n",
    "省略号在这里表示的是用户可以自行对这个位置的参数赋予多个值。比如`paste()`函数，你可以将两个对象连在一起，也可以将多个对象连到一起。"
   ]
  },
  {
   "cell_type": "markdown",
   "metadata": {},
   "source": [
    "## Write your own function 写函数\n",
    "\n",
    "基本公式：\n",
    "```r\n",
    "my_fun<-function(参数1，参数2){\n",
    "    body 主体操作\n",
    "}\n",
    "```\n",
    "现在假设要写一个函数 `triple3()`,这个函数是把输入的数字翻3倍再输出；"
   ]
  },
  {
   "cell_type": "code",
   "execution_count": 21,
   "metadata": {},
   "outputs": [
    {
     "data": {
      "text/html": [
       "18"
      ],
      "text/latex": [
       "18"
      ],
      "text/markdown": [
       "18"
      ],
      "text/plain": [
       "[1] 18"
      ]
     },
     "metadata": {},
     "output_type": "display_data"
    }
   ],
   "source": [
    "# write the triple3()function\n",
    "\n",
    "triple3<-function(x){ # 设置一个参数 x\n",
    "    3*x # 这个函数的操作就是把输入的x 乘以3    \n",
    "}\n",
    "\n",
    "triple3(6) #测试函数\n",
    "# Numeric 6 matched to argument x (by pos) \n",
    "# Function body is executed: 3 * 6\n",
    "# Last expression = return value"
   ]
  },
  {
   "cell_type": "markdown",
   "metadata": {},
   "source": [
    "上面的`triple3()`函数只设置了一个参数，现在尝试设置**两个参数**的函数；"
   ]
  },
  {
   "cell_type": "code",
   "execution_count": 23,
   "metadata": {},
   "outputs": [
    {
     "data": {
      "text/html": [
       "10"
      ],
      "text/latex": [
       "10"
      ],
      "text/markdown": [
       "10"
      ],
      "text/plain": [
       "[1] 10"
      ]
     },
     "metadata": {},
     "output_type": "display_data"
    }
   ],
   "source": [
    "# write the function math_magic() \n",
    "\n",
    "math_magic<- function(x,y){\n",
    "    x*y+x/y\n",
    "}\n",
    "\n",
    "math_magic(4,2) # there must be two argument input, for the two arg is not optional;"
   ]
  },
  {
   "cell_type": "markdown",
   "metadata": {},
   "source": [
    "上面的函数必须输入两个参数才可以正确运算，现在将其中一个参数设定一个`默认值`，使其变成**可选参数** "
   ]
  },
  {
   "cell_type": "code",
   "execution_count": 24,
   "metadata": {},
   "outputs": [
    {
     "data": {
      "text/html": [
       "8"
      ],
      "text/latex": [
       "8"
      ],
      "text/markdown": [
       "8"
      ],
      "text/plain": [
       "[1] 8"
      ]
     },
     "metadata": {},
     "output_type": "display_data"
    },
    {
     "data": {
      "text/html": [
       "10"
      ],
      "text/latex": [
       "10"
      ],
      "text/markdown": [
       "10"
      ],
      "text/plain": [
       "[1] 10"
      ]
     },
     "metadata": {},
     "output_type": "display_data"
    }
   ],
   "source": [
    "math_magic<- function(x,y= 1){\n",
    "    x*y+x/y\n",
    "}\n",
    "math_magic(4) # 只输入x参数\n",
    "math_magic(4,2) # 对默认的y 作出修改\n"
   ]
  },
  {
   "cell_type": "code",
   "execution_count": 26,
   "metadata": {},
   "outputs": [
    {
     "data": {
      "text/html": [
       "0"
      ],
      "text/latex": [
       "0"
      ],
      "text/markdown": [
       "0"
      ],
      "text/plain": [
       "[1] 0"
      ]
     },
     "metadata": {},
     "output_type": "display_data"
    }
   ],
   "source": [
    "math_magic<- function(x,y=1){\n",
    "    if(y==0){\n",
    "        return(0)\n",
    "    } # 当y是0时，下面的算术无法运行，所以用if语句检测，当y=0时，结束函数并且用return()返回0\n",
    "    x*y+x/y\n",
    "}\n",
    "\n",
    "math_magic(8,0)"
   ]
  },
  {
   "cell_type": "code",
   "execution_count": null,
   "metadata": {},
   "outputs": [],
   "source": [
    "#==================\n",
    "#   练习\n",
    "#==================\n",
    "# Create a function pow_two()\n",
    "pow_two<-function(x){\n",
    "  x^2\n",
    "}\n",
    "\n",
    "# Use the function\n",
    "pow_two(12)\n",
    "\n",
    "# create a function sum_abs(), that takes two arguments and returns the sum of the absolute values（绝对值） of both arguments.\n",
    "# Create a function sum_abs()\n",
    "sum_abs<- function(ip1,ip2){\n",
    "  abs(ip1) + abs(ip2) # abs(x)求x的绝对值\n",
    "}\n",
    "\n",
    "# Use the function\n",
    "sum_abs(-2,3)"
   ]
  },
  {
   "cell_type": "markdown",
   "metadata": {},
   "source": [
    "### 无参数函数\n",
    "\n",
    "有些函数并**不需要**设置参数：\n",
    "\n",
    "There are situations in which your function does not require an input. \n",
    "\n",
    "Let's say you want to write a function that gives us the random outcome of throwing a fair die:"
   ]
  },
  {
   "cell_type": "code",
   "execution_count": 33,
   "metadata": {},
   "outputs": [
    {
     "data": {
      "text/html": [
       "1"
      ],
      "text/latex": [
       "1"
      ],
      "text/markdown": [
       "1"
      ],
      "text/plain": [
       "[1] 1"
      ]
     },
     "metadata": {},
     "output_type": "display_data"
    }
   ],
   "source": [
    "throw_die <- function() {\n",
    "  number <- sample(1:6, size = 1)\n",
    "  number\n",
    "}\n",
    "throw_die() #直接运行函数而不给任何参数输入\n",
    "\n",
    "# 再写一个 hello()函数\n",
    "# Define the function hello()\n",
    "hello<- function(){ #也不需要设置参数\n",
    "  print(\"Hi there!\")\n",
    "  return(TRUE)\n",
    "}\n",
    "\n",
    "\n",
    "# Call the function hello()\n",
    "hello()"
   ]
  },
  {
   "cell_type": "code",
   "execution_count": 35,
   "metadata": {},
   "outputs": [
    {
     "name": "stdout",
     "output_type": "stream",
     "text": [
      "[1] \"3 to the power two equals 9\"\n"
     ]
    },
    {
     "data": {
      "text/html": [
       "9"
      ],
      "text/latex": [
       "9"
      ],
      "text/markdown": [
       "9"
      ],
      "text/plain": [
       "[1] 9"
      ]
     },
     "metadata": {},
     "output_type": "display_data"
    },
    {
     "data": {
      "text/html": [
       "9"
      ],
      "text/latex": [
       "9"
      ],
      "text/markdown": [
       "9"
      ],
      "text/plain": [
       "[1] 9"
      ]
     },
     "metadata": {},
     "output_type": "display_data"
    },
    {
     "name": "stdout",
     "output_type": "stream",
     "text": [
      "[1] \"9 to the power two equals 81\"\n"
     ]
    },
    {
     "data": {
      "text/html": [
       "81"
      ],
      "text/latex": [
       "81"
      ],
      "text/markdown": [
       "81"
      ],
      "text/plain": [
       "[1] 81"
      ]
     },
     "metadata": {},
     "output_type": "display_data"
    }
   ],
   "source": [
    "# 设置 optional argument\n",
    "# Finish the pow_two() function\n",
    "pow_two <- function(x,print_info = TRUE) {\n",
    "  y <- x ^ 2\n",
    "  if(print_info == TRUE){print(paste(x, \"to the power two equals\", y))\n",
    "  }\n",
    "  return(y)\n",
    "}\n",
    "\n",
    "pow_two(3)\n",
    "pow_two(3,print_info = FALSE)\n",
    "pow_two(9,TRUE)"
   ]
  },
  {
   "cell_type": "markdown",
   "metadata": {},
   "source": [
    "### 函数作用域 Function scoping\n",
    "\n",
    "It implies that variables that are defined inside a function are not accessible outside that function\n",
    "\n",
    "也就是说在某一个函数 `function()`内部定义的变量，无法再函数外运行。\n"
   ]
  },
  {
   "cell_type": "code",
   "execution_count": 38,
   "metadata": {},
   "outputs": [
    {
     "data": {
      "text/html": [
       "16"
      ],
      "text/latex": [
       "16"
      ],
      "text/markdown": [
       "16"
      ],
      "text/plain": [
       "[1] 16"
      ]
     },
     "metadata": {},
     "output_type": "display_data"
    },
    {
     "ename": "ERROR",
     "evalue": "Error in eval(expr, envir, enclos): 找不到对象'y'\n",
     "output_type": "error",
     "traceback": [
      "Error in eval(expr, envir, enclos): 找不到对象'y'\nTraceback:\n"
     ]
    }
   ],
   "source": [
    "# 留意以下例子中的 y\n",
    "pow_two <- function(x) {\n",
    "  y <- x ^ 2\n",
    "  return(y)\n",
    "}\n",
    "pow_two(4)\n",
    "\n",
    "# 如果在函数外直接调用变量 y 系统会报错的。\n",
    "y \n",
    "\n",
    "# Error in eval(expr, envir, enclos): 找不到对象'y'"
   ]
  },
  {
   "cell_type": "code",
   "execution_count": null,
   "metadata": {},
   "outputs": [],
   "source": [
    "# The linkedin and facebook vectors have already been created for you\n",
    "\n",
    "# Define the interpret function\n",
    "interpret <- function(num_views) {\n",
    "  if (num_views > 15) {\n",
    "  print(\"You're popular!\")\n",
    "  return(num_views)\n",
    "  } else {\n",
    "  print(\"Try to be more visible!\")\n",
    "  return(0)\n",
    "  }\n",
    "}\n",
    "\n",
    "# Call the interpret function twice\n",
    "interpret(linkedin[1])\n",
    "interpret(facebook[2])"
   ]
  },
  {
   "cell_type": "code",
   "execution_count": null,
   "metadata": {},
   "outputs": [],
   "source": [
    "library(data.table)\n",
    "require(\"rjson\", character.only = TRUE) #当设了character.only = TRUE，那么调用包时就要用引号包含起来"
   ]
  }
 ],
 "metadata": {
  "kernelspec": {
   "display_name": "R",
   "language": "R",
   "name": "ir"
  },
  "language_info": {
   "codemirror_mode": "r",
   "file_extension": ".r",
   "mimetype": "text/x-r-source",
   "name": "R",
   "pygments_lexer": "r",
   "version": "3.6.1"
  }
 },
 "nbformat": 4,
 "nbformat_minor": 4
}
